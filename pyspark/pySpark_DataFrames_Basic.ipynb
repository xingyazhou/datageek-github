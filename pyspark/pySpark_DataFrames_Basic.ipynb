{
 "cells": [
  {
   "cell_type": "markdown",
   "metadata": {},
   "source": [
    "# Introduction to DataFrames - Python"
   ]
  },
  {
   "cell_type": "markdown",
   "metadata": {},
   "source": [
    "https://docs.databricks.com/spark/latest/dataframes-datasets/introduction-to-dataframes-python.html"
   ]
  },
  {
   "cell_type": "markdown",
   "metadata": {},
   "source": [
    "## Findspark"
   ]
  },
  {
   "cell_type": "code",
   "execution_count": 140,
   "metadata": {},
   "outputs": [
    {
     "name": "stdout",
     "output_type": "stream",
     "text": [
      "Done\n"
     ]
    }
   ],
   "source": [
    "import findspark\n",
    "findspark.init()\n",
    "print(\"Done\")"
   ]
  },
  {
   "cell_type": "markdown",
   "metadata": {},
   "source": [
    "### Create DataFrames"
   ]
  },
  {
   "cell_type": "code",
   "execution_count": 141,
   "metadata": {},
   "outputs": [
    {
     "name": "stdout",
     "output_type": "stream",
     "text": [
      "Row(id='123456', name='Computer Science')\n",
      "Row(firstName='xiangrui', lastName='meng', email='no-reply@stanford.edu', salary=120000)\n",
      "no-reply@berkeley.edu\n"
     ]
    }
   ],
   "source": [
    "# import pyspark class Row from module sql\n",
    "from pyspark.sql import *\n",
    "\n",
    "# Create Example Data - Departments and Employees\n",
    "\n",
    "# Create the Departments\n",
    "department1 = Row(id='123456', name='Computer Science')\n",
    "department2 = Row(id='789012', name='Mechanical Engineering')\n",
    "department3 = Row(id='345678', name='Theater and Drama')\n",
    "department4 = Row(id='901234', name='Indoor Recreation')\n",
    "\n",
    "# Create the Employees\n",
    "Employee = Row(\"firstName\", \"lastName\", \"email\", \"salary\")\n",
    "employee1 = Employee('michael', 'armbrust', 'no-reply@berkeley.edu', 100000)\n",
    "employee2 = Employee('xiangrui', 'meng', 'no-reply@stanford.edu', 120000)\n",
    "employee3 = Employee('matei', None, 'no-reply@waterloo.edu', 140000)\n",
    "employee4 = Employee(None, 'wendell', 'no-reply@berkeley.edu', 160000)\n",
    "employee5 = Employee('michael', 'jackson', 'no-reply@neverla.nd', 80000)\n",
    "\n",
    "# Create the DepartmentWithEmployees instances from Departments and Employees\n",
    "departmentWithEmployees1 = Row(department=department1, employees=[employee1, employee2])\n",
    "departmentWithEmployees2 = Row(department=department2, employees=[employee3, employee4])\n",
    "departmentWithEmployees3 = Row(department=department3, employees=[employee5, employee4])\n",
    "departmentWithEmployees4 = Row(department=department4, employees=[employee2, employee3])\n",
    "\n",
    "print(department1)\n",
    "print(employee2)\n",
    "print(departmentWithEmployees1.employees[0].email)"
   ]
  },
  {
   "cell_type": "code",
   "execution_count": 142,
   "metadata": {},
   "outputs": [
    {
     "name": "stdout",
     "output_type": "stream",
     "text": [
      "Row(department=Row(id='123456', name='Computer Science'), employees=[Row(firstName='michael', lastName='armbrust', email='no-reply@berkeley.edu', salary=100000), Row(firstName='xiangrui', lastName='meng', email='no-reply@stanford.edu', salary=120000)])\n"
     ]
    }
   ],
   "source": [
    "print(departmentWithEmployees1)"
   ]
  },
  {
   "cell_type": "markdown",
   "metadata": {},
   "source": [
    "### Create DataFrames from a list of the rows\n"
   ]
  },
  {
   "cell_type": "code",
   "execution_count": 143,
   "metadata": {},
   "outputs": [],
   "source": [
    "from pyspark.sql import SparkSession\n",
    "spark = SparkSession.Builder().master('local').getOrCreate()"
   ]
  },
  {
   "cell_type": "code",
   "execution_count": 144,
   "metadata": {},
   "outputs": [
    {
     "data": {
      "text/plain": [
       "DataFrame[department: struct<id:string,name:string>, employees: array<struct<firstName:string,lastName:string,email:string,salary:bigint>>]"
      ]
     },
     "metadata": {},
     "output_type": "display_data"
    },
    {
     "data": {
      "text/plain": [
       "DataFrame[department: struct<id:string,name:string>, employees: array<struct<firstName:string,lastName:string,email:string,salary:bigint>>]"
      ]
     },
     "metadata": {},
     "output_type": "display_data"
    }
   ],
   "source": [
    "departmentsWithEmployeesSeq1 = [departmentWithEmployees1, departmentWithEmployees2]\n",
    "df1 = spark.createDataFrame(departmentsWithEmployeesSeq1)\n",
    "\n",
    "display(df1)\n",
    "\n",
    "departmentsWithEmployeesSeq2 = [departmentWithEmployees3, departmentWithEmployees4]\n",
    "df2 = spark.createDataFrame(departmentsWithEmployeesSeq2)\n",
    "\n",
    "display(df2)"
   ]
  },
  {
   "cell_type": "code",
   "execution_count": 145,
   "metadata": {},
   "outputs": [
    {
     "name": "stdout",
     "output_type": "stream",
     "text": [
      "+--------------------------------+-----------------------------------------------------------------------------------------------------+\n",
      "|department                      |employees                                                                                            |\n",
      "+--------------------------------+-----------------------------------------------------------------------------------------------------+\n",
      "|[123456, Computer Science]      |[[michael, armbrust, no-reply@berkeley.edu, 100000], [xiangrui, meng, no-reply@stanford.edu, 120000]]|\n",
      "|[789012, Mechanical Engineering]|[[matei,, no-reply@waterloo.edu, 140000], [, wendell, no-reply@berkeley.edu, 160000]]                |\n",
      "+--------------------------------+-----------------------------------------------------------------------------------------------------+\n",
      "\n"
     ]
    }
   ],
   "source": [
    "df1.show(10, False)"
   ]
  },
  {
   "cell_type": "code",
   "execution_count": 146,
   "metadata": {},
   "outputs": [
    {
     "name": "stdout",
     "output_type": "stream",
     "text": [
      "+---------------------------+--------------------------------------------------------------------------------------------+\n",
      "|department                 |employees                                                                                   |\n",
      "+---------------------------+--------------------------------------------------------------------------------------------+\n",
      "|[345678, Theater and Drama]|[[michael, jackson, no-reply@neverla.nd, 80000], [, wendell, no-reply@berkeley.edu, 160000]]|\n",
      "|[901234, Indoor Recreation]|[[xiangrui, meng, no-reply@stanford.edu, 120000], [matei,, no-reply@waterloo.edu, 140000]]  |\n",
      "+---------------------------+--------------------------------------------------------------------------------------------+\n",
      "\n"
     ]
    }
   ],
   "source": [
    "df2.show(5,False)"
   ]
  },
  {
   "cell_type": "markdown",
   "metadata": {},
   "source": [
    "## Work with DataFrames"
   ]
  },
  {
   "cell_type": "markdown",
   "metadata": {},
   "source": [
    "### Union two DataFrames\n"
   ]
  },
  {
   "cell_type": "code",
   "execution_count": 147,
   "metadata": {},
   "outputs": [
    {
     "data": {
      "text/plain": [
       "DataFrame[department: struct<id:string,name:string>, employees: array<struct<firstName:string,lastName:string,email:string,salary:bigint>>]"
      ]
     },
     "metadata": {},
     "output_type": "display_data"
    }
   ],
   "source": [
    "unionDF = df1.union(df2)\n",
    "display(unionDF)"
   ]
  },
  {
   "cell_type": "code",
   "execution_count": 148,
   "metadata": {},
   "outputs": [
    {
     "name": "stdout",
     "output_type": "stream",
     "text": [
      "+--------------------------------+-----------------------------------------------------------------------------------------------------+\n",
      "|department                      |employees                                                                                            |\n",
      "+--------------------------------+-----------------------------------------------------------------------------------------------------+\n",
      "|[123456, Computer Science]      |[[michael, armbrust, no-reply@berkeley.edu, 100000], [xiangrui, meng, no-reply@stanford.edu, 120000]]|\n",
      "|[789012, Mechanical Engineering]|[[matei,, no-reply@waterloo.edu, 140000], [, wendell, no-reply@berkeley.edu, 160000]]                |\n",
      "|[345678, Theater and Drama]     |[[michael, jackson, no-reply@neverla.nd, 80000], [, wendell, no-reply@berkeley.edu, 160000]]         |\n",
      "|[901234, Indoor Recreation]     |[[xiangrui, meng, no-reply@stanford.edu, 120000], [matei,, no-reply@waterloo.edu, 140000]]           |\n",
      "+--------------------------------+-----------------------------------------------------------------------------------------------------+\n",
      "\n"
     ]
    }
   ],
   "source": [
    "unionDF.show(5,False)"
   ]
  },
  {
   "cell_type": "markdown",
   "metadata": {},
   "source": [
    "### Explode the employees column"
   ]
  },
  {
   "cell_type": "code",
   "execution_count": 161,
   "metadata": {},
   "outputs": [
    {
     "name": "stdout",
     "output_type": "stream",
     "text": [
      "+---------+--------+--------------------+------+\n",
      "|firstName|lastName|               email|salary|\n",
      "+---------+--------+--------------------+------+\n",
      "|  michael|armbrust|no-reply@berkeley...|100000|\n",
      "| xiangrui|    meng|no-reply@stanford...|120000|\n",
      "|    matei|    null|no-reply@waterloo...|140000|\n",
      "|     null| wendell|no-reply@berkeley...|160000|\n",
      "|  michael| jackson| no-reply@neverla.nd| 80000|\n",
      "|     null| wendell|no-reply@berkeley...|160000|\n",
      "| xiangrui|    meng|no-reply@stanford...|120000|\n",
      "|    matei|    null|no-reply@waterloo...|140000|\n",
      "+---------+--------+--------------------+------+\n",
      "\n"
     ]
    }
   ],
   "source": [
    "from pyspark.sql.functions import explode\n",
    "\n",
    "explodeDF = unionDF.select(explode(\"employees\").alias(\"e\"))\n",
    "flattenDF = explodeDF.selectExpr(\"e.firstName\", \"e.lastName\", \"e.email\", \"e.salary\")\n",
    "\n",
    "flattenDF.show()"
   ]
  },
  {
   "cell_type": "code",
   "execution_count": 150,
   "metadata": {},
   "outputs": [
    {
     "name": "stdout",
     "output_type": "stream",
     "text": [
      "+--------------------------------------------------+\n",
      "|e                                                 |\n",
      "+--------------------------------------------------+\n",
      "|[michael, armbrust, no-reply@berkeley.edu, 100000]|\n",
      "|[xiangrui, meng, no-reply@stanford.edu, 120000]   |\n",
      "|[matei,, no-reply@waterloo.edu, 140000]           |\n",
      "|[, wendell, no-reply@berkeley.edu, 160000]        |\n",
      "|[michael, jackson, no-reply@neverla.nd, 80000]    |\n",
      "|[, wendell, no-reply@berkeley.edu, 160000]        |\n",
      "|[xiangrui, meng, no-reply@stanford.edu, 120000]   |\n",
      "|[matei,, no-reply@waterloo.edu, 140000]           |\n",
      "+--------------------------------------------------+\n",
      "\n"
     ]
    }
   ],
   "source": [
    "explodeDF.show(10, False)"
   ]
  },
  {
   "cell_type": "markdown",
   "metadata": {},
   "source": [
    "### Use filter() to return the rows that match a predicate\n"
   ]
  },
  {
   "cell_type": "code",
   "execution_count": 32,
   "metadata": {},
   "outputs": [
    {
     "data": {
      "text/plain": [
       "DataFrame[firstName: string, lastName: string, email: string, salary: bigint]"
      ]
     },
     "metadata": {},
     "output_type": "display_data"
    }
   ],
   "source": [
    "filterDF = flattenDF.filter(flattenDF.firstName == \"xiangrui\").sort(flattenDF.lastName)\n",
    "display(filterDF)"
   ]
  },
  {
   "cell_type": "code",
   "execution_count": 33,
   "metadata": {},
   "outputs": [
    {
     "name": "stdout",
     "output_type": "stream",
     "text": [
      "+---------+--------+--------------------+------+\n",
      "|firstName|lastName|               email|salary|\n",
      "+---------+--------+--------------------+------+\n",
      "| xiangrui|    meng|no-reply@stanford...|120000|\n",
      "| xiangrui|    meng|no-reply@stanford...|120000|\n",
      "+---------+--------+--------------------+------+\n",
      "\n"
     ]
    }
   ],
   "source": [
    "filterDF.show()"
   ]
  },
  {
   "cell_type": "code",
   "execution_count": 35,
   "metadata": {},
   "outputs": [
    {
     "name": "stdout",
     "output_type": "stream",
     "text": [
      "+---------+--------+--------------------+------+\n",
      "|firstName|lastName|               email|salary|\n",
      "+---------+--------+--------------------+------+\n",
      "|  michael|armbrust|no-reply@berkeley...|100000|\n",
      "| xiangrui|    meng|no-reply@stanford...|120000|\n",
      "|    matei|    null|no-reply@waterloo...|140000|\n",
      "|     null| wendell|no-reply@berkeley...|160000|\n",
      "|  michael| jackson| no-reply@neverla.nd| 80000|\n",
      "|     null| wendell|no-reply@berkeley...|160000|\n",
      "| xiangrui|    meng|no-reply@stanford...|120000|\n",
      "|    matei|    null|no-reply@waterloo...|140000|\n",
      "+---------+--------+--------------------+------+\n",
      "\n"
     ]
    }
   ],
   "source": [
    "flattenDF.show()"
   ]
  },
  {
   "cell_type": "code",
   "execution_count": 43,
   "metadata": {},
   "outputs": [
    {
     "name": "stdout",
     "output_type": "stream",
     "text": [
      "+---------+--------+---------------------+------+\n",
      "|firstName|lastName|email                |salary|\n",
      "+---------+--------+---------------------+------+\n",
      "|michael  |armbrust|no-reply@berkeley.edu|100000|\n",
      "|michael  |jackson |no-reply@neverla.nd  |80000 |\n",
      "+---------+--------+---------------------+------+\n",
      "\n"
     ]
    }
   ],
   "source": [
    "filter_df2 = flattenDF.filter(flattenDF.firstName == 'michael').sort(flattenDF.salary, ascending=False)\n",
    "filter_df2.show(truncate=False)"
   ]
  },
  {
   "cell_type": "code",
   "execution_count": 46,
   "metadata": {},
   "outputs": [
    {
     "data": {
      "text/plain": [
       "['firstName', 'lastName', 'email', 'salary']"
      ]
     },
     "execution_count": 46,
     "metadata": {},
     "output_type": "execute_result"
    }
   ],
   "source": [
    "filter_df2.columns"
   ]
  },
  {
   "cell_type": "code",
   "execution_count": 54,
   "metadata": {},
   "outputs": [
    {
     "name": "stdout",
     "output_type": "stream",
     "text": [
      "+---------+--------+---------------------+------+\n",
      "|firstName|lastName|email                |salary|\n",
      "+---------+--------+---------------------+------+\n",
      "|michael  |jackson |no-reply@neverla.nd  |80000 |\n",
      "|michael  |armbrust|no-reply@berkeley.edu|100000|\n",
      "|xiangrui |meng    |no-reply@stanford.edu|120000|\n",
      "|xiangrui |meng    |no-reply@stanford.edu|120000|\n",
      "+---------+--------+---------------------+------+\n",
      "\n"
     ]
    }
   ],
   "source": [
    "from pyspark.sql.functions import col, asc, desc\n",
    "\n",
    "filterDF = flattenDF.filter((flattenDF.firstName == \"xiangrui\") | (col(\"firstName\") == \"michael\")).sort(asc(\"salary\"))\n",
    "filterDF.show(truncate = False)"
   ]
  },
  {
   "cell_type": "code",
   "execution_count": 55,
   "metadata": {},
   "outputs": [
    {
     "name": "stdout",
     "output_type": "stream",
     "text": [
      "+---------+--------+---------------------+------+\n",
      "|firstName|lastName|email                |salary|\n",
      "+---------+--------+---------------------+------+\n",
      "|michael  |armbrust|no-reply@berkeley.edu|100000|\n",
      "|xiangrui |meng    |no-reply@stanford.edu|120000|\n",
      "|matei    |null    |no-reply@waterloo.edu|140000|\n",
      "|null     |wendell |no-reply@berkeley.edu|160000|\n",
      "|michael  |jackson |no-reply@neverla.nd  |80000 |\n",
      "|null     |wendell |no-reply@berkeley.edu|160000|\n",
      "|xiangrui |meng    |no-reply@stanford.edu|120000|\n",
      "|matei    |null    |no-reply@waterloo.edu|140000|\n",
      "+---------+--------+---------------------+------+\n",
      "\n"
     ]
    }
   ],
   "source": [
    "flattenDF.show(truncate = False)"
   ]
  },
  {
   "cell_type": "code",
   "execution_count": 75,
   "metadata": {},
   "outputs": [
    {
     "name": "stdout",
     "output_type": "stream",
     "text": [
      "+---------+--------+---------------------+------+\n",
      "|firstName|lastName|email                |salary|\n",
      "+---------+--------+---------------------+------+\n",
      "|xiangrui |meng    |no-reply@stanford.edu|120000|\n",
      "|xiangrui |meng    |no-reply@stanford.edu|120000|\n",
      "|michael  |armbrust|no-reply@berkeley.edu|100000|\n",
      "|michael  |jackson |no-reply@neverla.nd  |80000 |\n",
      "+---------+--------+---------------------+------+\n",
      "\n"
     ]
    }
   ],
   "source": [
    "filterDF2 = flattenDF.filter( (col('firstName')!='null') & (col('lastName') != 'null') ).sort(desc('salary'))\n",
    "filterDF2.show(truncate = False)"
   ]
  },
  {
   "cell_type": "markdown",
   "metadata": {},
   "source": [
    "### The where() clause is equivalent to filter()\n"
   ]
  },
  {
   "cell_type": "code",
   "execution_count": 68,
   "metadata": {},
   "outputs": [
    {
     "name": "stdout",
     "output_type": "stream",
     "text": [
      "+---------+--------+---------------------+------+\n",
      "|firstName|lastName|email                |salary|\n",
      "+---------+--------+---------------------+------+\n",
      "|michael  |armbrust|no-reply@berkeley.edu|100000|\n",
      "|michael  |jackson |no-reply@neverla.nd  |80000 |\n",
      "|xiangrui |meng    |no-reply@stanford.edu|120000|\n",
      "|xiangrui |meng    |no-reply@stanford.edu|120000|\n",
      "+---------+--------+---------------------+------+\n",
      "\n"
     ]
    }
   ],
   "source": [
    "whereDF = flattenDF.where((col(\"firstName\") == \"xiangrui\") | (col(\"firstName\") == \"michael\")).sort(asc(\"lastName\"))\n",
    "whereDF.show(truncate = False)"
   ]
  },
  {
   "cell_type": "markdown",
   "metadata": {},
   "source": [
    "### Replace null values with -- using DataFrame Na function"
   ]
  },
  {
   "cell_type": "code",
   "execution_count": 72,
   "metadata": {},
   "outputs": [
    {
     "name": "stdout",
     "output_type": "stream",
     "text": [
      "+---------+--------+---------------------+------+\n",
      "|firstName|lastName|email                |salary|\n",
      "+---------+--------+---------------------+------+\n",
      "|michael  |armbrust|no-reply@berkeley.edu|100000|\n",
      "|xiangrui |meng    |no-reply@stanford.edu|120000|\n",
      "|matei    |---     |no-reply@waterloo.edu|140000|\n",
      "|---      |wendell |no-reply@berkeley.edu|160000|\n",
      "|michael  |jackson |no-reply@neverla.nd  |80000 |\n",
      "|---      |wendell |no-reply@berkeley.edu|160000|\n",
      "|xiangrui |meng    |no-reply@stanford.edu|120000|\n",
      "|matei    |---     |no-reply@waterloo.edu|140000|\n",
      "+---------+--------+---------------------+------+\n",
      "\n"
     ]
    }
   ],
   "source": [
    "nonNullDF = flattenDF.fillna(\"---\")\n",
    "nonNullDF.show(truncate = False)"
   ]
  },
  {
   "cell_type": "markdown",
   "metadata": {},
   "source": [
    "### Retrieve only rows with missing firstName or lastName\n"
   ]
  },
  {
   "cell_type": "code",
   "execution_count": 73,
   "metadata": {},
   "outputs": [
    {
     "name": "stdout",
     "output_type": "stream",
     "text": [
      "+---------+--------+---------------------+------+\n",
      "|firstName|lastName|email                |salary|\n",
      "+---------+--------+---------------------+------+\n",
      "|null     |wendell |no-reply@berkeley.edu|160000|\n",
      "|null     |wendell |no-reply@berkeley.edu|160000|\n",
      "|matei    |null    |no-reply@waterloo.edu|140000|\n",
      "|matei    |null    |no-reply@waterloo.edu|140000|\n",
      "+---------+--------+---------------------+------+\n",
      "\n"
     ]
    }
   ],
   "source": [
    "filterNonNullDF = flattenDF.filter(col(\"firstName\").isNull() | col(\"lastName\").isNull()).sort(\"email\")\n",
    "filterNonNullDF.show(truncate = False)"
   ]
  },
  {
   "cell_type": "code",
   "execution_count": 78,
   "metadata": {},
   "outputs": [
    {
     "name": "stdout",
     "output_type": "stream",
     "text": [
      "+---------+--------+---------------------+------+\n",
      "|firstName|lastName|email                |salary|\n",
      "+---------+--------+---------------------+------+\n",
      "|matei    |null    |no-reply@waterloo.edu|140000|\n",
      "|matei    |null    |no-reply@waterloo.edu|140000|\n",
      "|null     |wendell |no-reply@berkeley.edu|160000|\n",
      "|null     |wendell |no-reply@berkeley.edu|160000|\n",
      "+---------+--------+---------------------+------+\n",
      "\n"
     ]
    }
   ],
   "source": [
    "filternullDF2 = flattenDF.filter(col('firstName').isNull() | col('lastName').isNull()).sort(desc('email'))\n",
    "filternullDF2.show(truncate = False)"
   ]
  },
  {
   "cell_type": "markdown",
   "metadata": {},
   "source": [
    "### Example aggregations using agg() and countDistinct()"
   ]
  },
  {
   "cell_type": "code",
   "execution_count": 79,
   "metadata": {},
   "outputs": [
    {
     "name": "stdout",
     "output_type": "stream",
     "text": [
      "+---------+--------+---------------------+------+\n",
      "|firstName|lastName|email                |salary|\n",
      "+---------+--------+---------------------+------+\n",
      "|michael  |armbrust|no-reply@berkeley.edu|100000|\n",
      "|xiangrui |meng    |no-reply@stanford.edu|120000|\n",
      "|matei    |---     |no-reply@waterloo.edu|140000|\n",
      "|---      |wendell |no-reply@berkeley.edu|160000|\n",
      "|michael  |jackson |no-reply@neverla.nd  |80000 |\n",
      "|---      |wendell |no-reply@berkeley.edu|160000|\n",
      "|xiangrui |meng    |no-reply@stanford.edu|120000|\n",
      "|matei    |---     |no-reply@waterloo.edu|140000|\n",
      "+---------+--------+---------------------+------+\n",
      "\n"
     ]
    }
   ],
   "source": [
    "nonNullDF.show(truncate = False)"
   ]
  },
  {
   "cell_type": "code",
   "execution_count": 226,
   "metadata": {},
   "outputs": [],
   "source": [
    "from pyspark.sql.functions import countDistinct\n",
    "\n",
    "countDistinctDF = nonNullDF.select(['firstName', 'lastName' ,'email', 'salary'])\\\n",
    "        .groupBy('firstName', 'email','salary')\\\n",
    "        .agg(countDistinct('lastName').alias(\"distinct_last_names\"))"
   ]
  },
  {
   "cell_type": "code",
   "execution_count": 222,
   "metadata": {},
   "outputs": [
    {
     "name": "stdout",
     "output_type": "stream",
     "text": [
      "+---------+---------------------+------+-------------------+\n",
      "|firstName|email                |salary|distinct_last_names|\n",
      "+---------+---------------------+------+-------------------+\n",
      "|matei    |no-reply@waterloo.edu|140000|1                  |\n",
      "|michael  |no-reply@berkeley.edu|100000|1                  |\n",
      "|michael  |no-reply@neverla.nd  |80000 |1                  |\n",
      "|xiangrui |no-reply@stanford.edu|120000|1                  |\n",
      "|---      |no-reply@berkeley.edu|160000|1                  |\n",
      "+---------+---------------------+------+-------------------+\n",
      "\n"
     ]
    }
   ],
   "source": [
    "countDistinctDF.show(truncate = False)"
   ]
  },
  {
   "cell_type": "markdown",
   "metadata": {},
   "source": [
    "### Compare the DataFrame and SQL query physical plans"
   ]
  },
  {
   "cell_type": "code",
   "execution_count": 217,
   "metadata": {},
   "outputs": [
    {
     "name": "stdout",
     "output_type": "stream",
     "text": [
      "== Physical Plan ==\n",
      "*(5) HashAggregate(keys=[firstName#610, email#612, salary#173L], functions=[count(distinct lastName#611)])\n",
      "+- Exchange hashpartitioning(firstName#610, email#612, salary#173L, 200), true, [id=#3851]\n",
      "   +- *(4) HashAggregate(keys=[firstName#610, email#612, salary#173L], functions=[partial_count(distinct lastName#611)])\n",
      "      +- *(4) HashAggregate(keys=[firstName#610, email#612, salary#173L, lastName#611], functions=[])\n",
      "         +- Exchange hashpartitioning(firstName#610, email#612, salary#173L, lastName#611, 200), true, [id=#3846]\n",
      "            +- *(3) HashAggregate(keys=[firstName#610, email#612, salary#173L, lastName#611], functions=[])\n",
      "               +- *(3) Project [coalesce(e#168.firstName, ---) AS firstName#610, coalesce(e#168.lastName, ---) AS lastName#611, coalesce(e#168.email, ---) AS email#612, e#168.salary AS salary#173L]\n",
      "                  +- Generate explode(employees#1), false, [e#168]\n",
      "                     +- Union\n",
      "                        :- *(1) Project [employees#1]\n",
      "                        :  +- *(1) Scan ExistingRDD[department#0,employees#1]\n",
      "                        +- *(2) Project [employees#5]\n",
      "                           +- *(2) Scan ExistingRDD[department#4,employees#5]\n",
      "\n",
      "\n"
     ]
    }
   ],
   "source": [
    "countDistinctDF.explain()"
   ]
  },
  {
   "cell_type": "code",
   "execution_count": 219,
   "metadata": {},
   "outputs": [
    {
     "name": "stdout",
     "output_type": "stream",
     "text": [
      "+---------+--------+---------------------+------+\n",
      "|firstName|lastName|email                |salary|\n",
      "+---------+--------+---------------------+------+\n",
      "|michael  |armbrust|no-reply@berkeley.edu|100000|\n",
      "|xiangrui |meng    |no-reply@stanford.edu|120000|\n",
      "|matei    |---     |no-reply@waterloo.edu|140000|\n",
      "|---      |wendell |no-reply@berkeley.edu|160000|\n",
      "|michael  |jackson |no-reply@neverla.nd  |80000 |\n",
      "|---      |wendell |no-reply@berkeley.edu|160000|\n",
      "|xiangrui |meng    |no-reply@stanford.edu|120000|\n",
      "|matei    |---     |no-reply@waterloo.edu|140000|\n",
      "+---------+--------+---------------------+------+\n",
      "\n"
     ]
    }
   ],
   "source": [
    "nonNullDF.show(truncate = False)"
   ]
  },
  {
   "cell_type": "code",
   "execution_count": 228,
   "metadata": {},
   "outputs": [],
   "source": [
    "# register the DataFrame as a temp view so that we can query it using SQL\n",
    "nonNullDF.createOrReplaceTempView(\"databricks_df_example\")\n",
    "\n",
    "# Perform the same query as the DataFrame above and return ``explain``\n",
    "countDistinctDF_sql = spark.sql('''\n",
    "  SELECT firstName,  email, salary, count(distinct lastName) AS distinct_last_names\n",
    "  FROM databricks_df_example\n",
    "  GROUP BY firstName, email, salary\n",
    "''')"
   ]
  },
  {
   "cell_type": "code",
   "execution_count": 229,
   "metadata": {},
   "outputs": [
    {
     "name": "stdout",
     "output_type": "stream",
     "text": [
      "== Physical Plan ==\n",
      "*(5) HashAggregate(keys=[firstName#610, email#612, salary#173L], functions=[count(distinct lastName#611)])\n",
      "+- Exchange hashpartitioning(firstName#610, email#612, salary#173L, 200), true, [id=#4163]\n",
      "   +- *(4) HashAggregate(keys=[firstName#610, email#612, salary#173L], functions=[partial_count(distinct lastName#611)])\n",
      "      +- *(4) HashAggregate(keys=[firstName#610, email#612, salary#173L, lastName#611], functions=[])\n",
      "         +- Exchange hashpartitioning(firstName#610, email#612, salary#173L, lastName#611, 200), true, [id=#4158]\n",
      "            +- *(3) HashAggregate(keys=[firstName#610, email#612, salary#173L, lastName#611], functions=[])\n",
      "               +- *(3) Project [coalesce(e#168.firstName, ---) AS firstName#610, coalesce(e#168.lastName, ---) AS lastName#611, coalesce(e#168.email, ---) AS email#612, e#168.salary AS salary#173L]\n",
      "                  +- Generate explode(employees#1), false, [e#168]\n",
      "                     +- Union\n",
      "                        :- *(1) Project [employees#1]\n",
      "                        :  +- *(1) Scan ExistingRDD[department#0,employees#1]\n",
      "                        +- *(2) Project [employees#5]\n",
      "                           +- *(2) Scan ExistingRDD[department#4,employees#5]\n",
      "\n",
      "\n"
     ]
    }
   ],
   "source": [
    "countDistinctDF_sql.explain()"
   ]
  },
  {
   "cell_type": "code",
   "execution_count": 230,
   "metadata": {},
   "outputs": [
    {
     "name": "stdout",
     "output_type": "stream",
     "text": [
      "+---------+--------------------+------+-------------------+\n",
      "|firstName|               email|salary|distinct_last_names|\n",
      "+---------+--------------------+------+-------------------+\n",
      "|    matei|no-reply@waterloo...|140000|                  1|\n",
      "|  michael|no-reply@berkeley...|100000|                  1|\n",
      "|  michael| no-reply@neverla.nd| 80000|                  1|\n",
      "| xiangrui|no-reply@stanford...|120000|                  1|\n",
      "|      ---|no-reply@berkeley...|160000|                  1|\n",
      "+---------+--------------------+------+-------------------+\n",
      "\n"
     ]
    }
   ],
   "source": [
    "countDistinctDF_sql.show()"
   ]
  },
  {
   "cell_type": "markdown",
   "metadata": {},
   "source": [
    "### Sum up all the salaries\n"
   ]
  },
  {
   "cell_type": "code",
   "execution_count": 231,
   "metadata": {},
   "outputs": [
    {
     "data": {
      "text/plain": [
       "DataFrame[sum(salary): bigint]"
      ]
     },
     "metadata": {},
     "output_type": "display_data"
    }
   ],
   "source": [
    "salarySumDF = nonNullDF.agg({\"salary\" : \"sum\"})\n",
    "display(salarySumDF)"
   ]
  },
  {
   "cell_type": "code",
   "execution_count": 232,
   "metadata": {},
   "outputs": [
    {
     "data": {
      "text/plain": [
       "pyspark.sql.dataframe.DataFrame"
      ]
     },
     "execution_count": 232,
     "metadata": {},
     "output_type": "execute_result"
    }
   ],
   "source": [
    "type(salarySumDF)"
   ]
  },
  {
   "cell_type": "code",
   "execution_count": 234,
   "metadata": {},
   "outputs": [
    {
     "data": {
      "text/plain": [
       "DataFrame[sum(salary): bigint]"
      ]
     },
     "execution_count": 234,
     "metadata": {},
     "output_type": "execute_result"
    }
   ],
   "source": [
    "salarySumDF.cache()"
   ]
  },
  {
   "cell_type": "code",
   "execution_count": 235,
   "metadata": {},
   "outputs": [
    {
     "name": "stdout",
     "output_type": "stream",
     "text": [
      "== Physical Plan ==\n",
      "*(4) HashAggregate(keys=[], functions=[sum(salary#173L)])\n",
      "+- Exchange SinglePartition, true, [id=#4332]\n",
      "   +- *(3) HashAggregate(keys=[], functions=[partial_sum(salary#173L)])\n",
      "      +- *(3) !Project [_gen_alias_2426#2426L AS salary#173L]\n",
      "         +- Generate explode(employees#1), false, [e#168]\n",
      "            +- Union\n",
      "               :- *(1) Project [employees#1]\n",
      "               :  +- *(1) Scan ExistingRDD[department#0,employees#1]\n",
      "               +- *(2) Project [employees#5]\n",
      "                  +- *(2) Scan ExistingRDD[department#4,employees#5]\n",
      "\n",
      "\n"
     ]
    }
   ],
   "source": [
    "salarySumDF.explain()"
   ]
  },
  {
   "cell_type": "markdown",
   "metadata": {},
   "source": [
    "### An example using pandas and Matplotlib integration"
   ]
  },
  {
   "cell_type": "code",
   "execution_count": 249,
   "metadata": {},
   "outputs": [
    {
     "name": "stdout",
     "output_type": "stream",
     "text": [
      "+---------+--------+--------------------+------+\n",
      "|firstName|lastName|               email|salary|\n",
      "+---------+--------+--------------------+------+\n",
      "|  michael|armbrust|no-reply@berkeley...|100000|\n",
      "| xiangrui|    meng|no-reply@stanford...|120000|\n",
      "|    matei|     ---|no-reply@waterloo...|140000|\n",
      "|      ---| wendell|no-reply@berkeley...|160000|\n",
      "|  michael| jackson| no-reply@neverla.nd| 80000|\n",
      "|      ---| wendell|no-reply@berkeley...|160000|\n",
      "| xiangrui|    meng|no-reply@stanford...|120000|\n",
      "|    matei|     ---|no-reply@waterloo...|140000|\n",
      "+---------+--------+--------------------+------+\n",
      "\n"
     ]
    }
   ],
   "source": [
    "nonNullDF.show()"
   ]
  },
  {
   "cell_type": "code",
   "execution_count": 252,
   "metadata": {},
   "outputs": [
    {
     "name": "stdout",
     "output_type": "stream",
     "text": [
      "+---------+--------+--------------------+------+\n",
      "|firstName|lastName|               email|salary|\n",
      "+---------+--------+--------------------+------+\n",
      "|  michael| jackson| no-reply@neverla.nd| 80000|\n",
      "|  michael|armbrust|no-reply@berkeley...|100000|\n",
      "| xiangrui|    meng|no-reply@stanford...|120000|\n",
      "| xiangrui|    meng|no-reply@stanford...|120000|\n",
      "|    matei|     ---|no-reply@waterloo...|140000|\n",
      "|    matei|     ---|no-reply@waterloo...|140000|\n",
      "|      ---| wendell|no-reply@berkeley...|160000|\n",
      "|      ---| wendell|no-reply@berkeley...|160000|\n",
      "+---------+--------+--------------------+------+\n",
      "\n"
     ]
    }
   ],
   "source": [
    "df1 = nonNullDF.sort(asc('salary'))\n",
    "df1.show()"
   ]
  },
  {
   "cell_type": "code",
   "execution_count": 248,
   "metadata": {},
   "outputs": [
    {
     "data": {
      "text/plain": [
       "<Figure size 432x288 with 0 Axes>"
      ]
     },
     "metadata": {},
     "output_type": "display_data"
    },
    {
     "data": {
      "image/png": "[encoded data removed]",
      "text/plain": [
       "<Figure size 432x288 with 1 Axes>"
      ]
     },
     "metadata": {
      "needs_background": "light"
     },
     "output_type": "display_data"
    }
   ],
   "source": [
    "import pandas as pd\n",
    "import matplotlib.pyplot as plt\n",
    "\n",
    "plt.clf()\n",
    "pdDF = nonNullDF.toPandas()\n",
    "pdDF.plot(x='firstName', y='salary', kind='bar', rot=45)\n",
    "display()"
   ]
  },
  {
   "cell_type": "code",
   "execution_count": 255,
   "metadata": {},
   "outputs": [
    {
     "data": {
      "text/plain": [
       "<Figure size 432x288 with 0 Axes>"
      ]
     },
     "metadata": {},
     "output_type": "display_data"
    },
    {
     "data": {
      "image/png": "[encoded data removed]",
      "text/plain": [
       "<Figure size 432x288 with 1 Axes>"
      ]
     },
     "metadata": {
      "needs_background": "light"
     },
     "output_type": "display_data"
    }
   ],
   "source": [
    "plt.clf()\n",
    "pdDF2 = df1.toPandas()\n",
    "pdDF2.plot(x = 'firstName', y = 'salary', kind = 'bar', rot = 30)\n",
    "display()\n"
   ]
  }
 ],
 "metadata": {
  "kernelspec": {
   "display_name": "Python 3",
   "language": "python",
   "name": "python3"
  },
  "language_info": {
   "codemirror_mode": {
    "name": "ipython",
    "version": 3
   },
   "file_extension": ".py",
   "mimetype": "text/x-python",
   "name": "python",
   "nbconvert_exporter": "python",
   "pygments_lexer": "ipython3",
   "version": "3.7.4"
  }
 },
 "nbformat": 4,
 "nbformat_minor": 2
}
