{
 "cells": [
  {
   "cell_type": "markdown",
   "metadata": {},
   "source": [
    "## PySpark Example Fire_Department_Calls_for_Service"
   ]
  },
  {
   "cell_type": "markdown",
   "metadata": {},
   "source": [
    "## Find Spark"
   ]
  },
  {
   "cell_type": "code",
   "execution_count": 1,
   "metadata": {},
   "outputs": [
    {
     "name": "stdout",
     "output_type": "stream",
     "text": [
      "Done\n"
     ]
    }
   ],
   "source": [
    "import findspark\n",
    "findspark.init()\n",
    "print(\"Done\")"
   ]
  },
  {
   "cell_type": "markdown",
   "metadata": {},
   "source": [
    "## import"
   ]
  },
  {
   "cell_type": "code",
   "execution_count": 57,
   "metadata": {},
   "outputs": [],
   "source": [
    "from pyspark import SparkContext, SparkConf\n",
    "from pyspark.sql import SparkSession\n",
    "from pyspark.sql.functions import avg, asc, desc\n",
    "from pyspark.sql.types import *\n",
    "import pyspark.sql.functions as F\n",
    "\n",
    "from functools import reduce\n",
    "import functools"
   ]
  },
  {
   "cell_type": "markdown",
   "metadata": {},
   "source": [
    "## Create SparkContext, SparkSession"
   ]
  },
  {
   "cell_type": "code",
   "execution_count": 3,
   "metadata": {},
   "outputs": [],
   "source": [
    "#conf=SparkConf().setMaster(\"local\").setAppName(\"myApp\")\n",
    "#sc=SparkContext(conf=conf)\n",
    "sc = SparkContext('local', 'myApp')\n",
    "spark = SparkSession.builder.getOrCreate()"
   ]
  },
  {
   "cell_type": "markdown",
   "metadata": {},
   "source": [
    "## Read .csv data to DataFrame"
   ]
  },
  {
   "cell_type": "markdown",
   "metadata": {},
   "source": [
    "### Define a schema "
   ]
  },
  {
   "cell_type": "code",
   "execution_count": 4,
   "metadata": {},
   "outputs": [],
   "source": [
    "fireschema = StructType([StructField('Call Number', IntegerType(), True),\n",
    "                     StructField('Unit ID', StringType(), True),\n",
    "                     StructField('Incident Number', IntegerType(), True),\n",
    "                     StructField('Call Type', StringType(), True),                  \n",
    "                     StructField('Call Date', StringType(), True),       \n",
    "                     StructField('Watch Date', StringType(), True),       \n",
    "                     StructField('Received DtTm', StringType(), True),       \n",
    "                     StructField('Entry DtTm', StringType(), True),       \n",
    "                     StructField('Dispatch DtTm', StringType(), True),       \n",
    "                     StructField('Response DtTm', StringType(), True),       \n",
    "                     StructField('On Scene DtTm', StringType(), True),       \n",
    "                     StructField('Transport DtTm', StringType(), True),                  \n",
    "                     StructField('Hospital DtTm', StringType(), True),       \n",
    "                     StructField('Call Final Disposition', StringType(), True),       \n",
    "                     StructField('Available DtTm', StringType(), True),       \n",
    "                     StructField('Address', StringType(), True),       \n",
    "                     StructField('City', StringType(), True),       \n",
    "                     StructField('Zipcode of Incident', IntegerType(), True),       \n",
    "                     StructField('Battalion', StringType(), True),                 \n",
    "                     StructField('Station Area', StringType(), True),       \n",
    "                     StructField('Box', StringType(), True),       \n",
    "                     StructField('Original Priority', StringType(), True),       \n",
    "                     StructField('Priority', StringType(), True),       \n",
    "                     StructField('Final Priority', IntegerType(), True),       \n",
    "                     StructField('ALS Unit', BooleanType(), True),       \n",
    "                     StructField('Call Type Group', StringType(), True),\n",
    "                     StructField('Number of Alarms', IntegerType(), True),\n",
    "                     StructField('Unit Type', StringType(), True),\n",
    "                     StructField('Unit sequence in call dispatch', IntegerType(), True),\n",
    "                     StructField('Fire Prevention District', StringType(), True),\n",
    "                     StructField('Supervisor District', StringType(), True),\n",
    "                     StructField('Neighborhood District', StringType(), True),\n",
    "                     StructField('Location', StringType(), True),\n",
    "                     StructField('RowID', StringType(), True)])"
   ]
  },
  {
   "cell_type": "markdown",
   "metadata": {},
   "source": [
    "### read the file using format CSV"
   ]
  },
  {
   "cell_type": "code",
   "execution_count": 7,
   "metadata": {},
   "outputs": [],
   "source": [
    "sf_fire_file = \"Fire_Department_Calls_for_Service.csv\"\n",
    "fire_df =spark.read.csv(sf_fire_file, header=True, mode=\"DROPMALFORMED\", schema=fireschema)"
   ]
  },
  {
   "cell_type": "code",
   "execution_count": 8,
   "metadata": {},
   "outputs": [
    {
     "data": {
      "text/plain": [
       "5225735"
      ]
     },
     "execution_count": 8,
     "metadata": {},
     "output_type": "execute_result"
    }
   ],
   "source": [
    "fire_df.count()"
   ]
  },
  {
   "cell_type": "code",
   "execution_count": 10,
   "metadata": {},
   "outputs": [
    {
     "data": {
      "text/plain": [
       "['Call Number',\n",
       " 'Unit ID',\n",
       " 'Incident Number',\n",
       " 'Call Type',\n",
       " 'Call Date',\n",
       " 'Watch Date',\n",
       " 'Received DtTm',\n",
       " 'Entry DtTm',\n",
       " 'Dispatch DtTm',\n",
       " 'Response DtTm',\n",
       " 'On Scene DtTm',\n",
       " 'Transport DtTm',\n",
       " 'Hospital DtTm',\n",
       " 'Call Final Disposition',\n",
       " 'Available DtTm',\n",
       " 'Address',\n",
       " 'City',\n",
       " 'Zipcode of Incident',\n",
       " 'Battalion',\n",
       " 'Station Area',\n",
       " 'Box',\n",
       " 'Original Priority',\n",
       " 'Priority',\n",
       " 'Final Priority',\n",
       " 'ALS Unit',\n",
       " 'Call Type Group',\n",
       " 'Number of Alarms',\n",
       " 'Unit Type',\n",
       " 'Unit sequence in call dispatch',\n",
       " 'Fire Prevention District',\n",
       " 'Supervisor District',\n",
       " 'Neighborhood District',\n",
       " 'Location',\n",
       " 'RowID']"
      ]
     },
     "execution_count": 10,
     "metadata": {},
     "output_type": "execute_result"
    }
   ],
   "source": [
    "fire_df.columns"
   ]
  },
  {
   "cell_type": "markdown",
   "metadata": {},
   "source": [
    "## Data Precesssing & Analysis"
   ]
  },
  {
   "cell_type": "markdown",
   "metadata": {},
   "source": [
    "### How many different types of calls were made to the Fire Department?"
   ]
  },
  {
   "cell_type": "code",
   "execution_count": 38,
   "metadata": {},
   "outputs": [
    {
     "name": "stdout",
     "output_type": "stream",
     "text": [
      "Total number of different types of calls:  32\n"
     ]
    }
   ],
   "source": [
    "callType_distinct = fire_df.select('Call Type').distinct()\n",
    "num = callType_distinct.count()\n",
    "print(\"Total number of different types of calls: \", num)"
   ]
  },
  {
   "cell_type": "code",
   "execution_count": 39,
   "metadata": {},
   "outputs": [
    {
     "name": "stdout",
     "output_type": "stream",
     "text": [
      "+--------------------------------------------+\n",
      "|Call Type                                   |\n",
      "+--------------------------------------------+\n",
      "|Elevator / Escalator Rescue                 |\n",
      "|Marine Fire                                 |\n",
      "|Aircraft Emergency                          |\n",
      "|Confined Space / Structure Collapse         |\n",
      "|Administrative                              |\n",
      "|Alarms                                      |\n",
      "|Odor (Strange / Unknown)                    |\n",
      "|Lightning Strike (Investigation)            |\n",
      "|Citizen Assist / Service Call               |\n",
      "|HazMat                                      |\n",
      "|Watercraft in Distress                      |\n",
      "|Explosion                                   |\n",
      "|Oil Spill                                   |\n",
      "|Vehicle Fire                                |\n",
      "|Suspicious Package                          |\n",
      "|Train / Rail Fire                           |\n",
      "|Extrication / Entrapped (Machinery, Vehicle)|\n",
      "|Other                                       |\n",
      "|Outside Fire                                |\n",
      "|Traffic Collision                           |\n",
      "|Assist Police                               |\n",
      "|Gas Leak (Natural and LP Gases)             |\n",
      "|Water Rescue                                |\n",
      "|Electrical Hazard                           |\n",
      "|High Angle Rescue                           |\n",
      "|Structure Fire                              |\n",
      "|Industrial Accidents                        |\n",
      "|Medical Incident                            |\n",
      "|Mutual Aid / Assist Outside Agency          |\n",
      "|Fuel Spill                                  |\n",
      "|Smoke Investigation (Outside)               |\n",
      "|Train / Rail Incident                       |\n",
      "+--------------------------------------------+\n",
      "\n"
     ]
    }
   ],
   "source": [
    "callType_distinct.show(num, truncate = False)"
   ]
  },
  {
   "cell_type": "code",
   "execution_count": 35,
   "metadata": {},
   "outputs": [],
   "source": [
    "rdd1 = callType_distinct.rdd"
   ]
  },
  {
   "cell_type": "code",
   "execution_count": 36,
   "metadata": {},
   "outputs": [
    {
     "data": {
      "text/plain": [
       "32"
      ]
     },
     "execution_count": 36,
     "metadata": {},
     "output_type": "execute_result"
    }
   ],
   "source": [
    "rdd1.count()"
   ]
  },
  {
   "cell_type": "code",
   "execution_count": 37,
   "metadata": {},
   "outputs": [
    {
     "data": {
      "text/plain": [
       "[Row(Call Type='Elevator / Escalator Rescue'),\n",
       " Row(Call Type='Marine Fire'),\n",
       " Row(Call Type='Aircraft Emergency'),\n",
       " Row(Call Type='Confined Space / Structure Collapse'),\n",
       " Row(Call Type='Administrative'),\n",
       " Row(Call Type='Alarms'),\n",
       " Row(Call Type='Odor (Strange / Unknown)'),\n",
       " Row(Call Type='Lightning Strike (Investigation)'),\n",
       " Row(Call Type='Citizen Assist / Service Call'),\n",
       " Row(Call Type='HazMat'),\n",
       " Row(Call Type='Watercraft in Distress'),\n",
       " Row(Call Type='Explosion'),\n",
       " Row(Call Type='Oil Spill'),\n",
       " Row(Call Type='Vehicle Fire'),\n",
       " Row(Call Type='Suspicious Package'),\n",
       " Row(Call Type='Train / Rail Fire'),\n",
       " Row(Call Type='Extrication / Entrapped (Machinery, Vehicle)'),\n",
       " Row(Call Type='Other'),\n",
       " Row(Call Type='Outside Fire'),\n",
       " Row(Call Type='Traffic Collision'),\n",
       " Row(Call Type='Assist Police'),\n",
       " Row(Call Type='Gas Leak (Natural and LP Gases)'),\n",
       " Row(Call Type='Water Rescue'),\n",
       " Row(Call Type='Electrical Hazard'),\n",
       " Row(Call Type='High Angle Rescue'),\n",
       " Row(Call Type='Structure Fire'),\n",
       " Row(Call Type='Industrial Accidents'),\n",
       " Row(Call Type='Medical Incident'),\n",
       " Row(Call Type='Mutual Aid / Assist Outside Agency'),\n",
       " Row(Call Type='Fuel Spill'),\n",
       " Row(Call Type='Smoke Investigation (Outside)'),\n",
       " Row(Call Type='Train / Rail Incident')]"
      ]
     },
     "execution_count": 37,
     "metadata": {},
     "output_type": "execute_result"
    }
   ],
   "source": [
    "rdd1.collect()"
   ]
  },
  {
   "cell_type": "markdown",
   "metadata": {},
   "source": [
    "### How many incidents of each call type were there?"
   ]
  },
  {
   "cell_type": "code",
   "execution_count": 40,
   "metadata": {},
   "outputs": [],
   "source": [
    "callType_df2 = fire_df.select(\"Call Type\").groupBy('Call Type').count().sort(desc('count'))\n",
    "# CallType_df1=fire_df.select(\"Call Type\").groupBy(\"Call Type\").count().sort('count',ascending=False)"
   ]
  },
  {
   "cell_type": "code",
   "execution_count": 41,
   "metadata": {},
   "outputs": [
    {
     "name": "stdout",
     "output_type": "stream",
     "text": [
      "+--------------------------------------------+-------+\n",
      "|Call Type                                   |count  |\n",
      "+--------------------------------------------+-------+\n",
      "|Medical Incident                            |3411696|\n",
      "|Structure Fire                              |659644 |\n",
      "|Alarms                                      |565194 |\n",
      "|Traffic Collision                           |215006 |\n",
      "|Other                                       |82489  |\n",
      "|Citizen Assist / Service Call               |78089  |\n",
      "|Outside Fire                                |62767  |\n",
      "|Water Rescue                                |25482  |\n",
      "|Vehicle Fire                                |24510  |\n",
      "|Gas Leak (Natural and LP Gases)             |20990  |\n",
      "|Electrical Hazard                           |15536  |\n",
      "|Elevator / Escalator Rescue                 |14126  |\n",
      "|Odor (Strange / Unknown)                    |12811  |\n",
      "|Smoke Investigation (Outside)               |11646  |\n",
      "|Fuel Spill                                  |5995   |\n",
      "|HazMat                                      |4113   |\n",
      "|Industrial Accidents                        |2967   |\n",
      "|Explosion                                   |2747   |\n",
      "|Aircraft Emergency                          |1511   |\n",
      "|Train / Rail Incident                       |1389   |\n",
      "|Assist Police                               |1386   |\n",
      "|High Angle Rescue                           |1222   |\n",
      "|Watercraft in Distress                      |989    |\n",
      "|Extrication / Entrapped (Machinery, Vehicle)|756    |\n",
      "|Confined Space / Structure Collapse         |604    |\n",
      "|Oil Spill                                   |517    |\n",
      "|Mutual Aid / Assist Outside Agency          |482    |\n",
      "|Marine Fire                                 |396    |\n",
      "|Suspicious Package                          |331    |\n",
      "|Administrative                              |276    |\n",
      "|Train / Rail Fire                           |59     |\n",
      "|Lightning Strike (Investigation)            |9      |\n",
      "+--------------------------------------------+-------+\n",
      "\n"
     ]
    }
   ],
   "source": [
    "callType_df2.show(num, truncate = False)"
   ]
  },
  {
   "cell_type": "markdown",
   "metadata": {},
   "source": [
    "### Rename Column's Name With functools.reduce\n",
    "\n"
   ]
  },
  {
   "cell_type": "code",
   "execution_count": 49,
   "metadata": {},
   "outputs": [
    {
     "data": {
      "text/plain": [
       "['Call Number',\n",
       " 'Unit ID',\n",
       " 'Incident Number',\n",
       " 'Call Type',\n",
       " 'Call Date',\n",
       " 'Watch Date',\n",
       " 'Received DtTm',\n",
       " 'Entry DtTm',\n",
       " 'Dispatch DtTm',\n",
       " 'Response DtTm',\n",
       " 'On Scene DtTm',\n",
       " 'Transport DtTm',\n",
       " 'Hospital DtTm',\n",
       " 'Call Final Disposition',\n",
       " 'Available DtTm',\n",
       " 'Address',\n",
       " 'City',\n",
       " 'Zipcode of Incident',\n",
       " 'Battalion',\n",
       " 'Station Area',\n",
       " 'Box',\n",
       " 'Original Priority',\n",
       " 'Priority',\n",
       " 'Final Priority',\n",
       " 'ALS Unit',\n",
       " 'Call Type Group',\n",
       " 'Number of Alarms',\n",
       " 'Unit Type',\n",
       " 'Unit sequence in call dispatch',\n",
       " 'Fire Prevention District',\n",
       " 'Supervisor District',\n",
       " 'Neighborhood District',\n",
       " 'Location',\n",
       " 'RowID']"
      ]
     },
     "execution_count": 49,
     "metadata": {},
     "output_type": "execute_result"
    }
   ],
   "source": [
    "oldColumns = fire_df.columns\n",
    "oldColumns"
   ]
  },
  {
   "cell_type": "code",
   "execution_count": 82,
   "metadata": {},
   "outputs": [],
   "source": [
    "newColumns = ['CallNumber',\n",
    " 'UnitID',\n",
    " 'IncidentNumber',\n",
    " 'CallType',\n",
    " 'CallDate',\n",
    " 'WatchDate',\n",
    " 'ReceivedDtTm',\n",
    " 'EntryDtTm',\n",
    " 'DispatchDtTm',\n",
    " 'ResponseDtTm',\n",
    " 'OnSceneDtTm',\n",
    " 'TransportDtTm',\n",
    " 'HospitalDtTm',\n",
    " 'CallFinalDisposition',\n",
    " 'AvailableDtTm',\n",
    " 'Address',\n",
    " 'City',\n",
    " 'ZipcodeofIncident',\n",
    " 'Battalion',\n",
    " 'StationArea',\n",
    " 'Box',\n",
    " 'OriginalPriority',\n",
    " 'Priority',\n",
    " 'FinalPriority',\n",
    " 'ALSUnit',\n",
    " 'CallTypeGroup',\n",
    " 'NumberofAlarms',\n",
    " 'UnitType',\n",
    " 'Unitsequenceincalldispatch',\n",
    " 'FirePreventionDistrict',\n",
    " 'SupervisorDistrict',\n",
    " 'NeighborhoodDistrict',\n",
    " 'Location',\n",
    " 'RowID'\n",
    "]"
   ]
  },
  {
   "cell_type": "code",
   "execution_count": 83,
   "metadata": {},
   "outputs": [],
   "source": [
    "df = reduce(lambda data, idx: data.withColumnRenamed(oldColumns[idx], newColumns[idx]), range(len(oldColumns)), fire_df)"
   ]
  },
  {
   "cell_type": "code",
   "execution_count": 84,
   "metadata": {},
   "outputs": [
    {
     "data": {
      "text/plain": [
       "['CallNumber',\n",
       " 'UnitID',\n",
       " 'IncidentNumber',\n",
       " 'CallType',\n",
       " 'CallDate',\n",
       " 'WatchDate',\n",
       " 'ReceivedDtTm',\n",
       " 'EntryDtTm',\n",
       " 'DispatchDtTm',\n",
       " 'ResponseDtTm',\n",
       " 'OnSceneDtTm',\n",
       " 'TransportDtTm',\n",
       " 'HospitalDtTm',\n",
       " 'CallFinalDisposition',\n",
       " 'AvailableDtTm',\n",
       " 'Address',\n",
       " 'City',\n",
       " 'ZipcodeofIncident',\n",
       " 'Battalion',\n",
       " 'StationArea',\n",
       " 'Box',\n",
       " 'OriginalPriority',\n",
       " 'Priority',\n",
       " 'FinalPriority',\n",
       " 'ALSUnit',\n",
       " 'CallTypeGroup',\n",
       " 'NumberofAlarms',\n",
       " 'UnitType',\n",
       " 'Unitsequenceincalldispatch',\n",
       " 'FirePreventionDistrict',\n",
       " 'SupervisorDistrict',\n",
       " 'NeighborhoodDistrict',\n",
       " 'Location',\n",
       " 'RowID']"
      ]
     },
     "execution_count": 84,
     "metadata": {},
     "output_type": "execute_result"
    }
   ],
   "source": [
    "df.columns"
   ]
  },
  {
   "cell_type": "code",
   "execution_count": 94,
   "metadata": {},
   "outputs": [
    {
     "name": "stdout",
     "output_type": "stream",
     "text": [
      "+-----------------------------------+\n",
      "|CallType                           |\n",
      "+-----------------------------------+\n",
      "|Elevator / Escalator Rescue        |\n",
      "|Marine Fire                        |\n",
      "|Aircraft Emergency                 |\n",
      "|Confined Space / Structure Collapse|\n",
      "|Administrative                     |\n",
      "+-----------------------------------+\n",
      "only showing top 5 rows\n",
      "\n"
     ]
    }
   ],
   "source": [
    "df.select('CallType').distinct().show(5, False)"
   ]
  },
  {
   "cell_type": "markdown",
   "metadata": {},
   "source": [
    "### Extract date info from timestamp"
   ]
  },
  {
   "cell_type": "code",
   "execution_count": 95,
   "metadata": {},
   "outputs": [
    {
     "name": "stdout",
     "output_type": "stream",
     "text": [
      "+----------+----------------------+\n",
      "|CallDate  |ReceivedDtTm          |\n",
      "+----------+----------------------+\n",
      "|07/25/2019|07/25/2019 07:16:45 PM|\n",
      "|07/25/2019|07/25/2019 07:16:45 PM|\n",
      "+----------+----------------------+\n",
      "only showing top 2 rows\n",
      "\n"
     ]
    }
   ],
   "source": [
    "df.select('CallDate', 'ReceivedDtTm').show(2, False)"
   ]
  },
  {
   "cell_type": "code",
   "execution_count": 115,
   "metadata": {},
   "outputs": [],
   "source": [
    "from_pattern1 = 'MM/dd/yyyy'\n",
    "from_pattern2 = 'MM/dd/yyyy hh:mm:ss aa'\n",
    "\n",
    "\n",
    "df_ts = df.withColumn('CallDateTS', F.unix_timestamp('CallDate', from_pattern1).cast(\"timestamp\"))\\\n",
    ".withColumn('ReceivedDtTmTS', F.unix_timestamp('ReceivedDtTm', from_pattern2).cast(\"timestamp\") )"
   ]
  },
  {
   "cell_type": "code",
   "execution_count": 116,
   "metadata": {},
   "outputs": [
    {
     "name": "stdout",
     "output_type": "stream",
     "text": [
      "+----------+-------------------+----------------------+--------------+\n",
      "|CallDate  |CallDateTS         |ReceivedDtTm          |ReceivedDtTmTS|\n",
      "+----------+-------------------+----------------------+--------------+\n",
      "|07/25/2019|2019-07-25 00:00:00|07/25/2019 07:16:45 PM|null          |\n",
      "|07/25/2019|2019-07-25 00:00:00|07/25/2019 07:16:45 PM|null          |\n",
      "|07/25/2019|2019-07-25 00:00:00|07/25/2019 07:16:45 PM|null          |\n",
      "|07/25/2019|2019-07-25 00:00:00|07/25/2019 07:16:45 PM|null          |\n",
      "|07/25/2019|2019-07-25 00:00:00|07/25/2019 07:16:45 PM|null          |\n",
      "+----------+-------------------+----------------------+--------------+\n",
      "only showing top 5 rows\n",
      "\n"
     ]
    }
   ],
   "source": [
    "df_ts.select('CallDate','CallDateTS', 'ReceivedDtTm', 'ReceivedDtTmTS').show(5, False)"
   ]
  },
  {
   "cell_type": "code",
   "execution_count": 124,
   "metadata": {},
   "outputs": [
    {
     "name": "stdout",
     "output_type": "stream",
     "text": [
      "+-------------------+-------------------+-------------+----------------------+\n",
      "|IncidentDate       |OnWatchDate        |AvailableDtTS|AvailableDtTm         |\n",
      "+-------------------+-------------------+-------------+----------------------+\n",
      "|2019-04-25 00:00:00|2019-04-25 00:00:00|null         |04/25/2019 03:28:56 PM|\n",
      "|2019-04-25 00:00:00|2019-04-25 00:00:00|null         |04/25/2019 06:08:58 PM|\n",
      "|2018-02-01 00:00:00|2018-02-01 00:00:00|null         |02/01/2018 12:38:05 PM|\n",
      "+-------------------+-------------------+-------------+----------------------+\n",
      "only showing top 3 rows\n",
      "\n"
     ]
    }
   ],
   "source": [
    "from pyspark.sql.functions import to_timestamp\n",
    " \n",
    "fire_ts_df = (df.withColumn(\"IncidentDate\", to_timestamp(df.CallDate, \"MM/dd/yyyy\"))\n",
    ".withColumn(\"OnWatchDate\", to_timestamp(df.WatchDate, \"MM/dd/yyyy\"))\n",
    ".withColumn(\"AvailableDtTS\", to_timestamp(df.AvailableDtTm, \"MM/dd/yyyy hh:mm:ss aa\")))\n",
    "\n",
    "fire_ts_df.select(\"IncidentDate\", \"OnWatchDate\", \"AvailableDtTS\", \"AvailableDtTm\").distinct().show(3, False)"
   ]
  },
  {
   "cell_type": "code",
   "execution_count": 126,
   "metadata": {},
   "outputs": [
    {
     "name": "stdout",
     "output_type": "stream",
     "text": [
      "+------------------+\n",
      "|year(IncidentDate)|\n",
      "+------------------+\n",
      "|              2000|\n",
      "|              2001|\n",
      "|              2002|\n",
      "|              2003|\n",
      "|              2004|\n",
      "|              2005|\n",
      "|              2006|\n",
      "|              2007|\n",
      "|              2008|\n",
      "|              2009|\n",
      "|              2010|\n",
      "|              2011|\n",
      "|              2012|\n",
      "|              2013|\n",
      "|              2014|\n",
      "|              2015|\n",
      "|              2016|\n",
      "|              2017|\n",
      "|              2018|\n",
      "|              2019|\n",
      "+------------------+\n",
      "only showing top 20 rows\n",
      "\n"
     ]
    }
   ],
   "source": [
    "from pyspark.sql.functions import *\n",
    "fire_ts_df.select(year('IncidentDate')).distinct().orderBy(year('IncidentDate')).show()"
   ]
  },
  {
   "cell_type": "code",
   "execution_count": 127,
   "metadata": {},
   "outputs": [
    {
     "name": "stdout",
     "output_type": "stream",
     "text": [
      "+----+\n",
      "|year|\n",
      "+----+\n",
      "|2000|\n",
      "|2001|\n",
      "|2002|\n",
      "|2003|\n",
      "|2004|\n",
      "|2005|\n",
      "|2006|\n",
      "|2007|\n",
      "|2008|\n",
      "|2009|\n",
      "|2010|\n",
      "|2011|\n",
      "|2012|\n",
      "|2013|\n",
      "|2014|\n",
      "|2015|\n",
      "|2016|\n",
      "|2017|\n",
      "|2018|\n",
      "|2019|\n",
      "+----+\n",
      "only showing top 20 rows\n",
      "\n"
     ]
    }
   ],
   "source": [
    "fire_ts_df.select(year('IncidentDate').alias('year')).distinct().sort(asc('year')).show()"
   ]
  },
  {
   "cell_type": "markdown",
   "metadata": {},
   "source": [
    "### Filter Data"
   ]
  },
  {
   "cell_type": "code",
   "execution_count": 117,
   "metadata": {},
   "outputs": [],
   "source": [
    "few_fire_df = (df.select(\"IncidentNumber\", \"AvailableDtTm\", \"CallType\") \n",
    "           .where(df.CallType != \"Medical Incident\"))"
   ]
  },
  {
   "cell_type": "code",
   "execution_count": 118,
   "metadata": {},
   "outputs": [
    {
     "name": "stdout",
     "output_type": "stream",
     "text": [
      "+-----------------------------+------+\n",
      "|CallType                     |count |\n",
      "+-----------------------------+------+\n",
      "|Structure Fire               |659644|\n",
      "|Alarms                       |565194|\n",
      "|Traffic Collision            |215006|\n",
      "|Other                        |82489 |\n",
      "|Citizen Assist / Service Call|78089 |\n",
      "+-----------------------------+------+\n",
      "only showing top 5 rows\n",
      "\n"
     ]
    }
   ],
   "source": [
    "call_df=(few_fire_df.select(\"CallType\")).groupBy(\"CallType\").count().sort('count',ascending=False)\n",
    "call_df.show(5, False)"
   ]
  },
  {
   "cell_type": "code",
   "execution_count": 120,
   "metadata": {},
   "outputs": [
    {
     "data": {
      "text/plain": [
       "32"
      ]
     },
     "execution_count": 120,
     "metadata": {},
     "output_type": "execute_result"
    }
   ],
   "source": [
    "df.select(\"CallType\").where(df.CallType != \"null\").distinct().count()"
   ]
  },
  {
   "cell_type": "code",
   "execution_count": 121,
   "metadata": {},
   "outputs": [
    {
     "data": {
      "text/plain": [
       "31"
      ]
     },
     "execution_count": 121,
     "metadata": {},
     "output_type": "execute_result"
    }
   ],
   "source": [
    "few_fire_df.select(\"CallType\").where(few_fire_df.CallType != \"null\").distinct().count()"
   ]
  },
  {
   "cell_type": "markdown",
   "metadata": {},
   "source": [
    "### Change Column name"
   ]
  },
  {
   "cell_type": "code",
   "execution_count": 123,
   "metadata": {},
   "outputs": [
    {
     "data": {
      "text/plain": [
       "'NumberOfCalls'"
      ]
     },
     "execution_count": 123,
     "metadata": {},
     "output_type": "execute_result"
    }
   ],
   "source": [
    "df2 = df.withColumnRenamed(\"CallNumber\", \"NumberOfCalls\")\n",
    "df2.columns[0]"
   ]
  },
  {
   "cell_type": "markdown",
   "metadata": {},
   "source": [
    "### What were the common types of fire calls?"
   ]
  },
  {
   "cell_type": "code",
   "execution_count": 128,
   "metadata": {},
   "outputs": [
    {
     "name": "stdout",
     "output_type": "stream",
     "text": [
      "+-------------------------------+-------+\n",
      "|CallType                       |count  |\n",
      "+-------------------------------+-------+\n",
      "|Medical Incident               |3411696|\n",
      "|Structure Fire                 |659644 |\n",
      "|Alarms                         |565194 |\n",
      "|Traffic Collision              |215006 |\n",
      "|Other                          |82489  |\n",
      "|Citizen Assist / Service Call  |78089  |\n",
      "|Outside Fire                   |62767  |\n",
      "|Water Rescue                   |25482  |\n",
      "|Vehicle Fire                   |24510  |\n",
      "|Gas Leak (Natural and LP Gases)|20990  |\n",
      "+-------------------------------+-------+\n",
      "only showing top 10 rows\n",
      "\n"
     ]
    }
   ],
   "source": [
    "fire_ts_df.select(\"CallType\").where(col(\"CallType\").isNotNull()).groupBy(\"CallType\").count().orderBy(\n",
    "    \"count\", ascending=False).show(10, truncate=False)"
   ]
  },
  {
   "cell_type": "markdown",
   "metadata": {},
   "source": [
    "### What were all the different types of fire calls in 2018?"
   ]
  },
  {
   "cell_type": "code",
   "execution_count": 132,
   "metadata": {},
   "outputs": [
    {
     "name": "stdout",
     "output_type": "stream",
     "text": [
      "+--------------------------------------------+\n",
      "|CallType                                    |\n",
      "+--------------------------------------------+\n",
      "|Elevator / Escalator Rescue                 |\n",
      "|Marine Fire                                 |\n",
      "|Confined Space / Structure Collapse         |\n",
      "|Administrative                              |\n",
      "|Alarms                                      |\n",
      "|Odor (Strange / Unknown)                    |\n",
      "|Citizen Assist / Service Call               |\n",
      "|HazMat                                      |\n",
      "|Watercraft in Distress                      |\n",
      "|Explosion                                   |\n",
      "|Vehicle Fire                                |\n",
      "|Suspicious Package                          |\n",
      "|Train / Rail Fire                           |\n",
      "|Extrication / Entrapped (Machinery, Vehicle)|\n",
      "|Other                                       |\n",
      "|Outside Fire                                |\n",
      "|Traffic Collision                           |\n",
      "|Assist Police                               |\n",
      "|Gas Leak (Natural and LP Gases)             |\n",
      "|Water Rescue                                |\n",
      "|Electrical Hazard                           |\n",
      "|High Angle Rescue                           |\n",
      "|Structure Fire                              |\n",
      "|Industrial Accidents                        |\n",
      "|Medical Incident                            |\n",
      "|Mutual Aid / Assist Outside Agency          |\n",
      "|Fuel Spill                                  |\n",
      "|Smoke Investigation (Outside)               |\n",
      "|Train / Rail Incident                       |\n",
      "+--------------------------------------------+\n",
      "\n"
     ]
    }
   ],
   "source": [
    "callType_df_2018 = fire_ts_df.select('CallType').where(year('IncidentDate')==2018).distinct()\n",
    "num = callType_df_2018.count()\n",
    "callType_df_2018.show(num, False)"
   ]
  },
  {
   "cell_type": "markdown",
   "metadata": {},
   "source": [
    "### What were all the different types of fire calls in 2019?"
   ]
  },
  {
   "cell_type": "code",
   "execution_count": 134,
   "metadata": {},
   "outputs": [
    {
     "name": "stdout",
     "output_type": "stream",
     "text": [
      "29\n",
      "+--------------------------------------------+\n",
      "|CallType                                    |\n",
      "+--------------------------------------------+\n",
      "|Elevator / Escalator Rescue                 |\n",
      "|Marine Fire                                 |\n",
      "|Confined Space / Structure Collapse         |\n",
      "|Administrative                              |\n",
      "|Alarms                                      |\n",
      "|Odor (Strange / Unknown)                    |\n",
      "|Citizen Assist / Service Call               |\n",
      "|HazMat                                      |\n",
      "|Watercraft in Distress                      |\n",
      "|Explosion                                   |\n",
      "|Vehicle Fire                                |\n",
      "|Suspicious Package                          |\n",
      "|Train / Rail Fire                           |\n",
      "|Extrication / Entrapped (Machinery, Vehicle)|\n",
      "|Other                                       |\n",
      "|Outside Fire                                |\n",
      "|Traffic Collision                           |\n",
      "|Assist Police                               |\n",
      "|Gas Leak (Natural and LP Gases)             |\n",
      "|Water Rescue                                |\n",
      "|Electrical Hazard                           |\n",
      "|High Angle Rescue                           |\n",
      "|Structure Fire                              |\n",
      "|Industrial Accidents                        |\n",
      "|Medical Incident                            |\n",
      "|Mutual Aid / Assist Outside Agency          |\n",
      "|Fuel Spill                                  |\n",
      "|Smoke Investigation (Outside)               |\n",
      "|Train / Rail Incident                       |\n",
      "+--------------------------------------------+\n",
      "\n"
     ]
    }
   ],
   "source": [
    "callType_df_2019 = fire_ts_df.select('CallType').where(year('IncidentDate')==2018).distinct()\n",
    "num = callType_df_2019.count()\n",
    "print(num)\n",
    "callType_df_2019.show(num, False)"
   ]
  },
  {
   "cell_type": "markdown",
   "metadata": {},
   "source": [
    "### Q1: What months within the year 2019 saw for the highest number of fire calls?"
   ]
  },
  {
   "cell_type": "code",
   "execution_count": 156,
   "metadata": {},
   "outputs": [],
   "source": [
    "fire_ts_df_month = fire_ts_df.withColumn('month', F.month('IncidentDate'))\\\n",
    "                            .withColumn('year', F.year('IncidentDate'))"
   ]
  },
  {
   "cell_type": "code",
   "execution_count": 157,
   "metadata": {},
   "outputs": [],
   "source": [
    "firecall_2019 = fire_ts_df_month.select('month').where(year('IncidentDate') == 2019)\\\n",
    ".groupby('month').count().sort(desc('count'))"
   ]
  },
  {
   "cell_type": "code",
   "execution_count": 159,
   "metadata": {},
   "outputs": [
    {
     "name": "stdout",
     "output_type": "stream",
     "text": [
      "+-----+-----+\n",
      "|month|count|\n",
      "+-----+-----+\n",
      "|   10|29209|\n",
      "+-----+-----+\n",
      "only showing top 1 row\n",
      "\n",
      "Following month saw highest num of fire calls  in year 2019:  None\n"
     ]
    }
   ],
   "source": [
    "print(\"Following month saw highest num of fire calls  in year 2019: \", firecall_2019.show(1))"
   ]
  },
  {
   "cell_type": "code",
   "execution_count": 160,
   "metadata": {},
   "outputs": [
    {
     "name": "stdout",
     "output_type": "stream",
     "text": [
      "+-----+-----+\n",
      "|month|count|\n",
      "+-----+-----+\n",
      "|   10|29209|\n",
      "|   12|28630|\n",
      "|    9|28521|\n",
      "|    8|27463|\n",
      "|    6|27161|\n",
      "|    3|26752|\n",
      "|   11|26493|\n",
      "|    5|25760|\n",
      "|    7|25465|\n",
      "|    4|25321|\n",
      "|    2|24640|\n",
      "|    1|24440|\n",
      "+-----+-----+\n",
      "\n"
     ]
    }
   ],
   "source": [
    "firecall_2019.show()"
   ]
  },
  {
   "cell_type": "markdown",
   "metadata": {},
   "source": [
    "### Show the month in the year 2018 saw the highest nuber of fire calls"
   ]
  },
  {
   "cell_type": "code",
   "execution_count": 161,
   "metadata": {},
   "outputs": [],
   "source": [
    "firecall_2018 = fire_ts_df_month.select('month').where(year('IncidentDate') == 2018)\\\n",
    ".groupby('month').count().sort(desc('count'))"
   ]
  },
  {
   "cell_type": "code",
   "execution_count": 162,
   "metadata": {},
   "outputs": [
    {
     "name": "stdout",
     "output_type": "stream",
     "text": [
      "+-----+-----+\n",
      "|month|count|\n",
      "+-----+-----+\n",
      "|    1|27027|\n",
      "+-----+-----+\n",
      "only showing top 1 row\n",
      "\n",
      "Following month saw highest num of fire calls  in year 2018:  None\n"
     ]
    }
   ],
   "source": [
    "print(\"Following month saw highest num of fire calls  in year 2018: \", firecall_2018.show(1))"
   ]
  },
  {
   "cell_type": "markdown",
   "metadata": {},
   "source": [
    "### Q2 Which neighborhood in SF generated the most fire calls in 2019?"
   ]
  },
  {
   "cell_type": "code",
   "execution_count": 163,
   "metadata": {},
   "outputs": [
    {
     "name": "stdout",
     "output_type": "stream",
     "text": [
      "+--------------------+-----+\n",
      "|NeighborhoodDistrict|count|\n",
      "+--------------------+-----+\n",
      "|Tenderloin          |45852|\n",
      "+--------------------+-----+\n",
      "only showing top 1 row\n",
      "\n"
     ]
    }
   ],
   "source": [
    "(fire_ts_df.select(\"NeighborhoodDistrict\").where(year(fire_ts_df.IncidentDate) == 2019)).groupby(\n",
    "    \"NeighborhoodDistrict\").count().orderBy(\"count\",ascending=False ).show(1,False)"
   ]
  },
  {
   "cell_type": "code",
   "execution_count": 167,
   "metadata": {},
   "outputs": [
    {
     "name": "stdout",
     "output_type": "stream",
     "text": [
      "+------------------------------+-----+\n",
      "|NeighborhoodDistrict          |count|\n",
      "+------------------------------+-----+\n",
      "|Tenderloin                    |45852|\n",
      "|South of Market               |35007|\n",
      "|Mission                       |28763|\n",
      "|Financial District/South Beach|22652|\n",
      "|Bayview Hunters Point         |17008|\n",
      "|Sunset/Parkside               |11294|\n",
      "|Western Addition              |10627|\n",
      "|Nob Hill                      |10542|\n",
      "|Hayes Valley                  |7940 |\n",
      "|Castro/Upper Market           |7902 |\n",
      "|Outer Richmond                |7661 |\n",
      "|West of Twin Peaks            |7052 |\n",
      "|Pacific Heights               |6709 |\n",
      "|Marina                        |6417 |\n",
      "|North Beach                   |6402 |\n",
      "|Excelsior                     |6174 |\n",
      "|Potrero Hill                  |5653 |\n",
      "|Chinatown                     |5641 |\n",
      "|Bernal Heights                |5392 |\n",
      "|Mission Bay                   |5363 |\n",
      "+------------------------------+-----+\n",
      "only showing top 20 rows\n",
      "\n"
     ]
    }
   ],
   "source": [
    "fire_ts_df_month.select(\"NeighborhoodDistrict\").where(fire_ts_df_month.year == 2019)\\\n",
    ".groupby(\"NeighborhoodDistrict\").count().sort(desc('count')).show(truncate = False)"
   ]
  },
  {
   "cell_type": "markdown",
   "metadata": {},
   "source": [
    "### Q3 Which neighborhoods in SF had the worst response time to fire calls in 2018?\n",
    "need to fix the null issue of timestamp to answer this question"
   ]
  },
  {
   "cell_type": "markdown",
   "metadata": {},
   "source": [
    "### Q4 Which week in the year in 2019 had the most fire calls?"
   ]
  },
  {
   "cell_type": "code",
   "execution_count": 168,
   "metadata": {},
   "outputs": [],
   "source": [
    "fire_ts_y_m_w_df = fire_ts_df_month.withColumn('week', F.weekofyear('IncidentDate'))"
   ]
  },
  {
   "cell_type": "code",
   "execution_count": 169,
   "metadata": {},
   "outputs": [
    {
     "name": "stdout",
     "output_type": "stream",
     "text": [
      "+----+-----+\n",
      "|week|count|\n",
      "+----+-----+\n",
      "|  43| 7311|\n",
      "|   1| 7262|\n",
      "|  49| 7055|\n",
      "|  24| 7048|\n",
      "|  39| 6981|\n",
      "|  37| 6819|\n",
      "|  41| 6754|\n",
      "|  50| 6692|\n",
      "|  23| 6635|\n",
      "|  38| 6578|\n",
      "|  44| 6432|\n",
      "|  35| 6416|\n",
      "|   6| 6361|\n",
      "|  36| 6356|\n",
      "|  46| 6346|\n",
      "|  40| 6341|\n",
      "|  11| 6293|\n",
      "|  33| 6288|\n",
      "|  51| 6245|\n",
      "|   3| 6240|\n",
      "+----+-----+\n",
      "only showing top 20 rows\n",
      "\n"
     ]
    }
   ],
   "source": [
    "fire_ts_y_m_w_df.select('week').where(fire_ts_y_m_w_df.year == 2019).groupby('week').count()\\\n",
    ".sort(desc('count')).show()"
   ]
  },
  {
   "cell_type": "markdown",
   "metadata": {},
   "source": [
    "### Q5 Is there a correlation between neighborhood, zip code, and fire calls?"
   ]
  },
  {
   "cell_type": "code",
   "execution_count": 170,
   "metadata": {},
   "outputs": [
    {
     "name": "stdout",
     "output_type": "stream",
     "text": [
      "+---------------------+-----------------+-----+\n",
      "|NeighborhoodDistrict |ZipcodeofIncident|count|\n",
      "+---------------------+-----------------+-----+\n",
      "|Tenderloin           |94102            |34027|\n",
      "|South of Market      |94103            |29156|\n",
      "|Mission              |94110            |17538|\n",
      "|Bayview Hunters Point|94124            |16013|\n",
      "|Mission              |94103            |11168|\n",
      "+---------------------+-----------------+-----+\n",
      "only showing top 5 rows\n",
      "\n"
     ]
    }
   ],
   "source": [
    "(fire_ts_df.select(\"NeighborhoodDistrict\",\"ZipcodeofIncident\").where(year(fire_ts_df.IncidentDate) == 2019)).groupby(\n",
    "    \"NeighborhoodDistrict\", \"ZipcodeofIncident\").count().orderBy(\"count\",ascending=False ).show(5,False)"
   ]
  },
  {
   "cell_type": "code",
   "execution_count": 171,
   "metadata": {},
   "outputs": [
    {
     "name": "stdout",
     "output_type": "stream",
     "text": [
      "+-----------------+-----+\n",
      "|ZipcodeofIncident|count|\n",
      "+-----------------+-----+\n",
      "|94103            |43506|\n",
      "|94102            |42591|\n",
      "|94109            |28257|\n",
      "|94110            |24592|\n",
      "|94124            |16444|\n",
      "+-----------------+-----+\n",
      "only showing top 5 rows\n",
      "\n"
     ]
    }
   ],
   "source": [
    "(fire_ts_df.select(\"ZipcodeofIncident\").where(year(fire_ts_df.IncidentDate) == 2019)).groupby(\n",
    "    \"ZipcodeofIncident\").count().orderBy(\"count\",ascending=False ).show(5,False)"
   ]
  },
  {
   "cell_type": "code",
   "execution_count": 172,
   "metadata": {},
   "outputs": [
    {
     "name": "stdout",
     "output_type": "stream",
     "text": [
      "+-----------------+--------------------+\n",
      "|ZipcodeofIncident|NeighborhoodDistrict|\n",
      "+-----------------+--------------------+\n",
      "|            94102|          Tenderloin|\n",
      "|            94109|          Tenderloin|\n",
      "|            94103|          Tenderloin|\n",
      "+-----------------+--------------------+\n",
      "\n"
     ]
    }
   ],
   "source": [
    "(fire_ts_df.select(\"ZipcodeofIncident\",\"NeighborhoodDistrict\").where(\n",
    "    fire_ts_df.NeighborhoodDistrict ==\"Tenderloin\")).distinct().show()"
   ]
  },
  {
   "cell_type": "code",
   "execution_count": 173,
   "metadata": {},
   "outputs": [
    {
     "name": "stdout",
     "output_type": "stream",
     "text": [
      "+--------------------+-----------------+\n",
      "|NeighborhoodDistrict|ZipcodeofIncident|\n",
      "+--------------------+-----------------+\n",
      "|    Western Addition|            94102|\n",
      "|          Tenderloin|            94102|\n",
      "|            Nob Hill|            94102|\n",
      "|             Mission|            94102|\n",
      "|     South of Market|            94102|\n",
      "|Financial Distric...|            94102|\n",
      "|        Hayes Valley|            94102|\n",
      "+--------------------+-----------------+\n",
      "\n"
     ]
    }
   ],
   "source": [
    "\n",
    "(fire_ts_df.select(\"NeighborhoodDistrict\",\"ZipcodeofIncident\").where(\n",
    "    fire_ts_df.ZipcodeofIncident == 94102)).distinct().show()"
   ]
  }
 ],
 "metadata": {
  "kernelspec": {
   "display_name": "Python 3",
   "language": "python",
   "name": "python3"
  },
  "language_info": {
   "codemirror_mode": {
    "name": "ipython",
    "version": 3
   },
   "file_extension": ".py",
   "mimetype": "text/x-python",
   "name": "python",
   "nbconvert_exporter": "python",
   "pygments_lexer": "ipython3",
   "version": "3.7.4"
  }
 },
 "nbformat": 4,
 "nbformat_minor": 2
}
