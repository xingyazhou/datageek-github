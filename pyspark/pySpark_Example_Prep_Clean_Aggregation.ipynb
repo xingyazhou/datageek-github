{
 "cells": [
  {
   "cell_type": "markdown",
   "metadata": {},
   "source": [
    "# pySpark Example: Data Prepare, Data Cleaning, Aggregation"
   ]
  },
  {
   "cell_type": "markdown",
   "metadata": {},
   "source": [
    "## findspark"
   ]
  },
  {
   "cell_type": "code",
   "execution_count": 1,
   "metadata": {},
   "outputs": [
    {
     "name": "stdout",
     "output_type": "stream",
     "text": [
      "Done\n"
     ]
    }
   ],
   "source": [
    "import findspark\n",
    "findspark.init()\n",
    "print('Done')"
   ]
  },
  {
   "cell_type": "markdown",
   "metadata": {},
   "source": [
    "## import"
   ]
  },
  {
   "cell_type": "code",
   "execution_count": 15,
   "metadata": {},
   "outputs": [],
   "source": [
    "from pyspark import SparkContext\n",
    "from pyspark.sql import SparkSession\n",
    "import pyspark.sql.functions as F\n",
    "import pyspark.sql.types as T"
   ]
  },
  {
   "cell_type": "markdown",
   "metadata": {},
   "source": [
    "## Create SparkContext, SparkSession instance"
   ]
  },
  {
   "cell_type": "code",
   "execution_count": 3,
   "metadata": {},
   "outputs": [],
   "source": [
    "sc = SparkContext('local', 'app')"
   ]
  },
  {
   "cell_type": "code",
   "execution_count": 4,
   "metadata": {},
   "outputs": [],
   "source": [
    "spark = SparkSession.Builder().appName('app').getOrCreate()"
   ]
  },
  {
   "cell_type": "markdown",
   "metadata": {},
   "source": [
    "## Design Schema"
   ]
  },
  {
   "cell_type": "code",
   "execution_count": 44,
   "metadata": {},
   "outputs": [],
   "source": [
    "schema_rate = T.StructType([T.StructField('userid', T.StringType(), True),\n",
    "                            T.StructField('accoid', T.StringType(), True),\n",
    "                            T.StructField('rating', T.FloatType(), True)\n",
    "                           ])\n",
    "\n",
    "schema_accommodation = T.StructType([T.StructField('id', T.StringType(), True),\n",
    "                                    T.StructField('title', T.StringType(), True),\n",
    "                                    T.StructField('location',T.StringType(), True),\n",
    "                                    T.StructField('price', T.IntegerType(), True),\n",
    "                                    T.StructField('rooms', T.IntegerType(), True),\n",
    "                                    T.StructField('rating', T.FloatType(), True),\n",
    "                                    T.StructField('type', T.StringType(), True)\n",
    "                                  ])"
   ]
  },
  {
   "cell_type": "markdown",
   "metadata": {},
   "source": [
    "## Read CSV file to Spark DataFrame"
   ]
  },
  {
   "cell_type": "code",
   "execution_count": 166,
   "metadata": {},
   "outputs": [
    {
     "name": "stdout",
     "output_type": "stream",
     "text": [
      "1187\n",
      "+------+------+------+\n",
      "|userid|accoid|rating|\n",
      "+------+------+------+\n",
      "|    10|     1|   1.0|\n",
      "|    18|     1|   2.0|\n",
      "|    13|     1|   1.0|\n",
      "|     7|     2|   2.0|\n",
      "|     4|     2|   2.0|\n",
      "+------+------+------+\n",
      "only showing top 5 rows\n",
      "\n"
     ]
    }
   ],
   "source": [
    "dfRate = spark.read.csv('recomend/rating.csv', header = 'False', schema=schema_rate)\n",
    "print(dfRate.count())\n",
    "dfRate.show(5)"
   ]
  },
  {
   "cell_type": "code",
   "execution_count": 192,
   "metadata": {},
   "outputs": [
    {
     "name": "stdout",
     "output_type": "stream",
     "text": [
      "110\n"
     ]
    }
   ],
   "source": [
    "dfAccos = spark.read.csv('recomend/accommodation.csv', header = False,  schema=schema_accommodation)\n",
    "print(dfAccos.count())"
   ]
  },
  {
   "cell_type": "markdown",
   "metadata": {},
   "source": [
    "## Find Duplicates"
   ]
  },
  {
   "cell_type": "code",
   "execution_count": 198,
   "metadata": {},
   "outputs": [
    {
     "name": "stdout",
     "output_type": "stream",
     "text": [
      "+---+------------------+---------+-----+-----+------+-------+--------------+\n",
      "| id|             title| location|price|rooms|rating|   type|num_duplicates|\n",
      "+---+------------------+---------+-----+-----+------+-------+--------------+\n",
      "|  1|Comfy Quiet Chalet|Vancouver|   50|    3|   3.1|cottage|             2|\n",
      "|  2|     Cozy Calm Hut|   London|   65|    2|   4.1|cottage|             3|\n",
      "| 23|   Homy Calm House|    Paris|   70|    2|   2.0|cottage|             5|\n",
      "+---+------------------+---------+-----+-----+------+-------+--------------+\n",
      "\n"
     ]
    }
   ],
   "source": [
    "dfAccos.groupBy('id', 'title', 'location', 'price', 'rooms', 'rating', 'type')\\\n",
    "            .agg(F.count('id').alias('num_duplicates')).where(F.col('num_duplicates') > 1).show()          "
   ]
  },
  {
   "cell_type": "markdown",
   "metadata": {},
   "source": [
    "## Find nulls"
   ]
  },
  {
   "cell_type": "markdown",
   "metadata": {},
   "source": [
    "### Get count of null values in pyspark"
   ]
  },
  {
   "cell_type": "code",
   "execution_count": 194,
   "metadata": {},
   "outputs": [
    {
     "name": "stdout",
     "output_type": "stream",
     "text": [
      "+---+-----+--------+-----+-----+------+----+\n",
      "| id|title|location|price|rooms|rating|type|\n",
      "+---+-----+--------+-----+-----+------+----+\n",
      "|  0|    1|       2|    2|    2|     2|   3|\n",
      "+---+-----+--------+-----+-----+------+----+\n",
      "\n"
     ]
    }
   ],
   "source": [
    "dfAccos.select([F.count(F.when(F.col(c).isNull(), c)).alias(c) for c in dfAccos.columns]).show()"
   ]
  },
  {
   "cell_type": "markdown",
   "metadata": {},
   "source": [
    "### Show rows with null values"
   ]
  },
  {
   "cell_type": "code",
   "execution_count": 195,
   "metadata": {},
   "outputs": [
    {
     "name": "stdout",
     "output_type": "stream",
     "text": [
      "+---+--------------------+--------+-----+-----+------+----+\n",
      "| id|               title|location|price|rooms|rating|type|\n",
      "+---+--------------------+--------+-----+-----+------+----+\n",
      "|  1|                null|    null| null| null|  null|null|\n",
      "|  3| Agreable Calm Place|  London|   65|    4|   4.8|null|\n",
      "|  4|Colossal Quiet Ch...|    null| null| null|  null|null|\n",
      "+---+--------------------+--------+-----+-----+------+----+\n",
      "\n"
     ]
    }
   ],
   "source": [
    "dfAccos.filter(F.col('type').isNull()).show(5)"
   ]
  },
  {
   "cell_type": "markdown",
   "metadata": {},
   "source": [
    "## Drop Duplicates"
   ]
  },
  {
   "cell_type": "code",
   "execution_count": 204,
   "metadata": {},
   "outputs": [
    {
     "name": "stdout",
     "output_type": "stream",
     "text": [
      "Num Of Rows before Drop Dupliates:  110\n",
      "+---+---------------+--------+-----+-----+------+-------+\n",
      "| id|          title|location|price|rooms|rating|   type|\n",
      "+---+---------------+--------+-----+-----+------+-------+\n",
      "| 23|Homy Calm House|   Paris|   70|    2|   2.0|cottage|\n",
      "| 23|Homy Calm House|   Paris|   70|    2|   2.0|cottage|\n",
      "| 23|Homy Calm House|   Paris|   70|    2|   2.0|cottage|\n",
      "| 23|Homy Calm House|   Paris|   70|    2|   2.0|cottage|\n",
      "| 23|Homy Calm House|   Paris|   70|    2|   2.0|cottage|\n",
      "+---+---------------+--------+-----+-----+------+-------+\n",
      "\n"
     ]
    }
   ],
   "source": [
    "print('Num Of Rows before Drop Dupliates: ', dfAccos.count())\n",
    "dfAccos.select('*').where(dfAccos.id == '23').show()"
   ]
  },
  {
   "cell_type": "code",
   "execution_count": 205,
   "metadata": {},
   "outputs": [
    {
     "name": "stdout",
     "output_type": "stream",
     "text": [
      "Num Of Rows After Drop Dupliates:  103\n",
      "+---+---------------+--------+-----+-----+------+-------+\n",
      "| id|          title|location|price|rooms|rating|   type|\n",
      "+---+---------------+--------+-----+-----+------+-------+\n",
      "| 23|Homy Calm House|   Paris|   70|    2|   2.0|cottage|\n",
      "+---+---------------+--------+-----+-----+------+-------+\n",
      "\n"
     ]
    }
   ],
   "source": [
    "dfAccos_dropDup = dfAccos.dropDuplicates()\n",
    "print('Num Of Rows After Drop Dupliates: ', dfAccos_dropDup.count())\n",
    "dfAccos_dropDup.select('*').where(dfAccos_dropDup.id == '23').show()"
   ]
  },
  {
   "cell_type": "markdown",
   "metadata": {},
   "source": [
    "### Verify there is no duplicates in the DataFrame"
   ]
  },
  {
   "cell_type": "code",
   "execution_count": 207,
   "metadata": {},
   "outputs": [
    {
     "name": "stdout",
     "output_type": "stream",
     "text": [
      "+---+-----+--------+-----+-----+------+----+--------------+\n",
      "| id|title|location|price|rooms|rating|type|num_duplicates|\n",
      "+---+-----+--------+-----+-----+------+----+--------------+\n",
      "+---+-----+--------+-----+-----+------+----+--------------+\n",
      "\n"
     ]
    }
   ],
   "source": [
    "dfAccos_dropDup.groupBy('id', 'title', 'location', 'price', 'rooms', 'rating', 'type')\\\n",
    "            .agg(F.count('id').alias('num_duplicates')).where(F.col('num_duplicates') > 1).show()    "
   ]
  },
  {
   "cell_type": "markdown",
   "metadata": {},
   "source": [
    "## Drop rows with nulls in some columns"
   ]
  },
  {
   "cell_type": "code",
   "execution_count": 209,
   "metadata": {},
   "outputs": [
    {
     "name": "stdout",
     "output_type": "stream",
     "text": [
      "Num Of Rows Before Drop rows with nulls:  103\n",
      "+---+--------------------+--------+-----+-----+------+----+\n",
      "| id|               title|location|price|rooms|rating|type|\n",
      "+---+--------------------+--------+-----+-----+------+----+\n",
      "|  1|                null|    null| null| null|  null|null|\n",
      "|  3| Agreable Calm Place|  London|   65|    4|   4.8|null|\n",
      "|  4|Colossal Quiet Ch...|    null| null| null|  null|null|\n",
      "+---+--------------------+--------+-----+-----+------+----+\n",
      "\n"
     ]
    }
   ],
   "source": [
    "print('Num Of Rows Before Drop rows with nulls: ', dfAccos_dropDup.count())\n",
    "dfAccos_dropDup.filter(F.col('type').isNull()).show(5)"
   ]
  },
  {
   "cell_type": "markdown",
   "metadata": {},
   "source": [
    "### Drop rows if specific colum value is null"
   ]
  },
  {
   "cell_type": "code",
   "execution_count": 221,
   "metadata": {},
   "outputs": [
    {
     "name": "stdout",
     "output_type": "stream",
     "text": [
      "Num Of Rows After Drop rows for specific column with null:  102\n",
      "+---+----------------------+--------+-----+-----+------+----+\n",
      "|id |title                 |location|price|rooms|rating|type|\n",
      "+---+----------------------+--------+-----+-----+------+----+\n",
      "|3  |Agreable Calm Place   |London  |65   |4    |4.8   |null|\n",
      "|4  |Colossal Quiet Chateau|null    |null |null |null  |null|\n",
      "+---+----------------------+--------+-----+-----+------+----+\n",
      "\n"
     ]
    }
   ],
   "source": [
    "dfAccos_drop_some_nulls = dfAccos_dropDup.filter(dfAccos_dropDup.title.isNotNull())\n",
    "\n",
    "print('Num Of Rows After Drop rows for specific column with null: ', dfAccos_drop_some_nulls.count())\n",
    "dfAccos_drop_some_nulls.filter(F.col('type').isNull()).show(5, False)\n",
    "\n",
    "# the row with null value on column 'title' was dropped"
   ]
  },
  {
   "cell_type": "markdown",
   "metadata": {},
   "source": [
    "### Drop rows if there is null in any columns"
   ]
  },
  {
   "cell_type": "code",
   "execution_count": 210,
   "metadata": {},
   "outputs": [
    {
     "name": "stdout",
     "output_type": "stream",
     "text": [
      "Num Of Rows After Drop rows with any nulls:  100\n",
      "+---+-----+--------+-----+-----+------+----+\n",
      "| id|title|location|price|rooms|rating|type|\n",
      "+---+-----+--------+-----+-----+------+----+\n",
      "+---+-----+--------+-----+-----+------+----+\n",
      "\n"
     ]
    }
   ],
   "source": [
    "dfAccos_clean = dfAccos_dropDup.na.drop('any')\n",
    "\n",
    "print('Num Of Rows After Drop rows with any nulls: ', dfAccos_clean.count())\n",
    "dfAccos_clean.filter(F.col('type').isNull()).show(5)"
   ]
  },
  {
   "cell_type": "markdown",
   "metadata": {},
   "source": [
    "### Verify there is no null values in the DataFrame"
   ]
  },
  {
   "cell_type": "code",
   "execution_count": 212,
   "metadata": {},
   "outputs": [
    {
     "name": "stdout",
     "output_type": "stream",
     "text": [
      "+---+-----+--------+-----+-----+------+----+\n",
      "| id|title|location|price|rooms|rating|type|\n",
      "+---+-----+--------+-----+-----+------+----+\n",
      "|  0|    0|       0|    0|    0|     0|   0|\n",
      "+---+-----+--------+-----+-----+------+----+\n",
      "\n"
     ]
    }
   ],
   "source": [
    "dfAccos_clean.select([F.count(F.when(F.col(c).isNull(), c)).alias(c) for c in dfAccos_clean.columns]).show()"
   ]
  },
  {
   "cell_type": "markdown",
   "metadata": {},
   "source": [
    "## Aggregations"
   ]
  },
  {
   "cell_type": "markdown",
   "metadata": {},
   "source": [
    "### Give me total num of ratings, total number of users rated and the best, worst, average rating"
   ]
  },
  {
   "cell_type": "code",
   "execution_count": 224,
   "metadata": {},
   "outputs": [
    {
     "name": "stdout",
     "output_type": "stream",
     "text": [
      "+-----------+---------+-----------+------------+------------------+\n",
      "|num_ratings|num_users|best_rating|worst_rating|        avg_rating|\n",
      "+-----------+---------+-----------+------------+------------------+\n",
      "|       1187|       25|        5.0|         1.0|2.4667228306655433|\n",
      "+-----------+---------+-----------+------------+------------------+\n",
      "\n"
     ]
    }
   ],
   "source": [
    "dfRate.agg(F.count('userid').alias('num_ratings'),\n",
    "           F.countDistinct('userid').alias('num_users'),\n",
    "           F.max('rating').alias('best_rating'),\n",
    "           F.min('rating').alias('worst_rating'),\n",
    "           F.avg('rating').alias('avg_rating')\n",
    "          ).show()"
   ]
  },
  {
   "cell_type": "code",
   "execution_count": 225,
   "metadata": {},
   "outputs": [
    {
     "data": {
      "text/plain": [
       "['id', 'title', 'location', 'price', 'rooms', 'rating', 'type']"
      ]
     },
     "execution_count": 225,
     "metadata": {},
     "output_type": "execute_result"
    }
   ],
   "source": [
    "dfAccos_clean.columns"
   ]
  },
  {
   "cell_type": "markdown",
   "metadata": {},
   "source": [
    "### Give me five accommodations with highest rating"
   ]
  },
  {
   "cell_type": "code",
   "execution_count": 274,
   "metadata": {},
   "outputs": [
    {
     "name": "stdout",
     "output_type": "stream",
     "text": [
      "+---+--------------------+--------+-----+-----+------+-------+\n",
      "| id|               title|location|price|rooms|rating|   type|\n",
      "+---+--------------------+--------+-----+-----+------+-------+\n",
      "| 10|Sizable Calm Coun...|Auckland|  650|    9|   4.9|mansion|\n",
      "| 21|  Big Peaceful Cabin| Seattle|   80|    2|   4.9|cottage|\n",
      "| 85|  Nice Private Shack|Auckland|   55|    1|   4.9|cottage|\n",
      "| 33| Pleasant Calm Place|   Tokyo|   30|    2|   4.8|  house|\n",
      "|  3| Agreable Calm Place|  London|   65|    4|   4.8|  house|\n",
      "+---+--------------------+--------+-----+-----+------+-------+\n",
      "only showing top 5 rows\n",
      "\n"
     ]
    }
   ],
   "source": [
    "dfAccos_clean.select('*').sort(F.desc('rating')).show(5)"
   ]
  },
  {
   "cell_type": "markdown",
   "metadata": {},
   "source": [
    "### Find all the accommodations for a specific user that rated before"
   ]
  },
  {
   "cell_type": "markdown",
   "metadata": {},
   "source": [
    "### Total number of accommodations"
   ]
  },
  {
   "cell_type": "code",
   "execution_count": 266,
   "metadata": {},
   "outputs": [
    {
     "data": {
      "text/plain": [
       "100"
      ]
     },
     "execution_count": 266,
     "metadata": {},
     "output_type": "execute_result"
    }
   ],
   "source": [
    "dfAccos_clean.count()"
   ]
  },
  {
   "cell_type": "markdown",
   "metadata": {},
   "source": [
    "### Numnber of accommodations rated by a specific user"
   ]
  },
  {
   "cell_type": "code",
   "execution_count": 267,
   "metadata": {},
   "outputs": [
    {
     "name": "stdout",
     "output_type": "stream",
     "text": [
      "The num of ratings for userid = '1':  46\n"
     ]
    }
   ],
   "source": [
    "USER_ID = '1'\n",
    "dfUserRatings = dfRate.filter(F.col('userid') == USER_ID)\\\n",
    "                      .rdd.map(lambda kv: kv[1]).collect()\n",
    "print(\"The num of ratings for userid = '1': \", len(dfUserRatings))"
   ]
  },
  {
   "cell_type": "code",
   "execution_count": 271,
   "metadata": {},
   "outputs": [
    {
     "data": {
      "text/plain": [
       "['2',\n",
       " '4',\n",
       " '5',\n",
       " '7',\n",
       " '8',\n",
       " '11',\n",
       " '14',\n",
       " '19',\n",
       " '23',\n",
       " '24',\n",
       " '25',\n",
       " '27',\n",
       " '34',\n",
       " '36',\n",
       " '37',\n",
       " '40',\n",
       " '42',\n",
       " '44',\n",
       " '45',\n",
       " '48',\n",
       " '51',\n",
       " '52',\n",
       " '53',\n",
       " '54',\n",
       " '55',\n",
       " '56',\n",
       " '58',\n",
       " '60',\n",
       " '62',\n",
       " '67',\n",
       " '68',\n",
       " '71',\n",
       " '73',\n",
       " '77',\n",
       " '80',\n",
       " '81',\n",
       " '82',\n",
       " '87',\n",
       " '88',\n",
       " '89',\n",
       " '91',\n",
       " '92',\n",
       " '94',\n",
       " '95',\n",
       " '97',\n",
       " '98']"
      ]
     },
     "execution_count": 271,
     "metadata": {},
     "output_type": "execute_result"
    }
   ],
   "source": [
    "dfUserRatings"
   ]
  },
  {
   "cell_type": "markdown",
   "metadata": {},
   "source": [
    "### Number of accommodations never rated by a specific user"
   ]
  },
  {
   "cell_type": "code",
   "execution_count": 268,
   "metadata": {},
   "outputs": [
    {
     "name": "stdout",
     "output_type": "stream",
     "text": [
      "The num of accommodations USER_ID never rated:  54\n"
     ]
    }
   ],
   "source": [
    "pairsPotential = dfAccos_clean.rdd.filter(lambda x: x[0] not in dfUserRatings)\\\n",
    "                                  .map(lambda x: (USER_ID, x[0]))\n",
    "\n",
    "print(\"The num of accommodations USER_ID never rated: \", pairsPotential.count())"
   ]
  },
  {
   "cell_type": "code",
   "execution_count": 270,
   "metadata": {},
   "outputs": [
    {
     "data": {
      "text/plain": [
       "[('1', '1'),\n",
       " ('1', '3'),\n",
       " ('1', '6'),\n",
       " ('1', '9'),\n",
       " ('1', '10'),\n",
       " ('1', '12'),\n",
       " ('1', '13'),\n",
       " ('1', '15'),\n",
       " ('1', '16'),\n",
       " ('1', '17'),\n",
       " ('1', '18'),\n",
       " ('1', '20'),\n",
       " ('1', '21'),\n",
       " ('1', '22'),\n",
       " ('1', '26'),\n",
       " ('1', '28'),\n",
       " ('1', '29'),\n",
       " ('1', '30'),\n",
       " ('1', '31'),\n",
       " ('1', '32'),\n",
       " ('1', '33'),\n",
       " ('1', '35'),\n",
       " ('1', '38'),\n",
       " ('1', '39'),\n",
       " ('1', '41'),\n",
       " ('1', '43'),\n",
       " ('1', '46'),\n",
       " ('1', '47'),\n",
       " ('1', '49'),\n",
       " ('1', '50'),\n",
       " ('1', '57'),\n",
       " ('1', '59'),\n",
       " ('1', '61'),\n",
       " ('1', '63'),\n",
       " ('1', '64'),\n",
       " ('1', '65'),\n",
       " ('1', '66'),\n",
       " ('1', '69'),\n",
       " ('1', '70'),\n",
       " ('1', '72'),\n",
       " ('1', '74'),\n",
       " ('1', '75'),\n",
       " ('1', '76'),\n",
       " ('1', '78'),\n",
       " ('1', '79'),\n",
       " ('1', '83'),\n",
       " ('1', '84'),\n",
       " ('1', '85'),\n",
       " ('1', '86'),\n",
       " ('1', '90'),\n",
       " ('1', '93'),\n",
       " ('1', '96'),\n",
       " ('1', '99'),\n",
       " ('1', '100')]"
      ]
     },
     "execution_count": 270,
     "metadata": {},
     "output_type": "execute_result"
    }
   ],
   "source": [
    "pairsPotential.collect()"
   ]
  }
 ],
 "metadata": {
  "kernelspec": {
   "display_name": "Python 3",
   "language": "python",
   "name": "python3"
  },
  "language_info": {
   "codemirror_mode": {
    "name": "ipython",
    "version": 3
   },
   "file_extension": ".py",
   "mimetype": "text/x-python",
   "name": "python",
   "nbconvert_exporter": "python",
   "pygments_lexer": "ipython3",
   "version": "3.7.4"
  }
 },
 "nbformat": 4,
 "nbformat_minor": 2
}
